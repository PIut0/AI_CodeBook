{
 "cells": [
  {
   "cell_type": "code",
   "execution_count": 1,
   "id": "d1ce6c25-7bfb-417e-a7b7-3ad13eb1f266",
   "metadata": {},
   "outputs": [],
   "source": [
    "from datetime import datetime\n",
    "from tqdm import tqdm\n",
    "import numpy as np\n",
    "import random, os, sys, torch, cv2, warnings\n",
    "from glob import glob\n",
    "from torch.utils.data import DataLoader\n",
    "import zipfile\n"
   ]
  },
  {
   "cell_type": "code",
   "execution_count": null,
   "id": "d59552b0-7d4f-4989-a02b-d8dc1e793752",
   "metadata": {},
   "outputs": [],
   "source": [
    "glob()"
   ]
  }
 ],
 "metadata": {
  "kernelspec": {
   "display_name": "mk8574_3.10 [~/.conda/envs/mk8574_3.10/]",
   "language": "python",
   "name": "conda_mk8574_3.10"
  },
  "language_info": {
   "codemirror_mode": {
    "name": "ipython",
    "version": 3
   },
   "file_extension": ".py",
   "mimetype": "text/x-python",
   "name": "python",
   "nbconvert_exporter": "python",
   "pygments_lexer": "ipython3",
   "version": "3.10.13"
  }
 },
 "nbformat": 4,
 "nbformat_minor": 5
}
