{
 "cells": [
  {
   "cell_type": "markdown",
   "metadata": {},
   "source": [
    "# Pytorch Dataset & DataLoader Class 연습 코드\n",
    "Pytorch 코드에서 데이터 처리를 담당하는 두 가지 클래스를 이해해보기 위한 노트북 코드입니다. 아래 두 가지 항목을 이해하는 것을 목적으로 합니다.\n",
    "- Pytorch Dataset Class의 역할을 이해합니다.\n",
    "- DataLoader Class의 역할과 주요 파라미터를 이해합니다."
   ]
  },
  {
   "cell_type": "code",
   "execution_count": 1,
   "metadata": {},
   "outputs": [],
   "source": [
    "# 필요한 라이브러리를 임포트합니다.\n",
    "import os\n",
    "import pandas as pd\n",
    "import numpy as np\n",
    "from glob import glob \n",
    "import matplotlib.pyplot as plt\n",
    "import seaborn as sns\n",
    "\n",
    "# 중요!\n",
    "from torch.utils.data import Dataset\n",
    "from torch.utils.data import DataLoader"
   ]
  },
  {
   "cell_type": "code",
   "execution_count": 2,
   "metadata": {},
   "outputs": [
    {
     "name": "stdout",
     "output_type": "stream",
     "text": [
      "input : \n",
      " [[0 1]\n",
      " [2 3]\n",
      " [4 5]\n",
      " [6 7]\n",
      " [8 9]] \n",
      "\n",
      "labels : \n",
      " [0 1 1 1 1] \n",
      "\n",
      "데이터 수량 : 100 \n",
      "\n"
     ]
    }
   ],
   "source": [
    "# 샘플 데이터 100개를 생성합니다.\n",
    "total_sample = 100\n",
    "X = np.arange(total_sample*2).reshape((total_sample, 2))\n",
    "# 1과 0을 랜덤한 비율로 생성\n",
    "zero_proportion = 0.3\n",
    "y = np.random.choice([0, 1], size=total_sample, p=[zero_proportion, 1-zero_proportion])\n",
    "\n",
    "print(f'input : \\n {X[:5]} \\n')\n",
    "print(f'labels : \\n {y[:5]} \\n')\n",
    "print(f'데이터 수량 : {len(X)} \\n')"
   ]
  },
  {
   "cell_type": "markdown",
   "metadata": {},
   "source": [
    "## 커스텀 데이터셋 클래스를 정의합니다."
   ]
  },
  {
   "cell_type": "code",
   "execution_count": 3,
   "metadata": {},
   "outputs": [],
   "source": [
    "# 커스텀 데이터셋 클래스를 정의합니다.\n",
    "class CustomDataset(Dataset):\n",
    "    def __init__(self, X, y):\n",
    "        #필요한 변수들을 선언 및 저장합니다.\n",
    "        self.X = X \n",
    "        self.y = y\n",
    "        \n",
    "    def __getitem__(self, index):\n",
    "        # index에 해당하는 데이터를 X와 y로부터 가져옵니다.\n",
    "        X = self.X[index]\n",
    "        y = self.y[index]\n",
    "        return X, y\n",
    "    \n",
    "    def __len__(self):\n",
    "        # 데이터 샘플의 개수 리턴합니다.\n",
    "        return len(self.X)"
   ]
  },
  {
   "cell_type": "code",
   "execution_count": 4,
   "metadata": {},
   "outputs": [],
   "source": [
    "# 커스텀 데이터셋 클래스를 활용해 데이터셋 인스턴스를 생성합니다.\n",
    "dataset = CustomDataset(X, y)"
   ]
  },
  {
   "cell_type": "code",
   "execution_count": 5,
   "metadata": {},
   "outputs": [
    {
     "name": "stdout",
     "output_type": "stream",
     "text": [
      "100\n"
     ]
    }
   ],
   "source": [
    "# 아래와 같이 데이터 샘플의 개수를 확인할 수 있습니다.\n",
    "print(len(dataset))"
   ]
  },
  {
   "cell_type": "code",
   "execution_count": 6,
   "metadata": {},
   "outputs": [
    {
     "data": {
      "text/plain": [
       "(array([198, 199]), 1)"
      ]
     },
     "execution_count": 6,
     "metadata": {},
     "output_type": "execute_result"
    }
   ],
   "source": [
    "# 아래와 같이 데이터 샘플 중 일부를 불러올 수 있습니다.\n",
    "dataset[99]"
   ]
  },
  {
   "cell_type": "markdown",
   "metadata": {},
   "source": [
    "## 데이터 로더를 생성합니다."
   ]
  },
  {
   "cell_type": "code",
   "execution_count": 7,
   "metadata": {},
   "outputs": [],
   "source": [
    "# 데이터 로더를 생성합니다.\n",
    "dataloader = DataLoader(dataset, batch_size=2, shuffle=True)"
   ]
  },
  {
   "cell_type": "code",
   "execution_count": 9,
   "metadata": {},
   "outputs": [
    {
     "name": "stderr",
     "output_type": "stream",
     "text": [
      "100%|██████████| 50/50 [00:00<00:00, 8387.94it/s]"
     ]
    },
    {
     "name": "stdout",
     "output_type": "stream",
     "text": [
      "batch_idx : 0\n",
      "X : tensor([[144, 145],\n",
      "        [ 48,  49]])\n",
      "y : tensor([1, 1])\n",
      "batch_idx : 1\n",
      "X : tensor([[34, 35],\n",
      "        [38, 39]])\n",
      "y : tensor([0, 1])\n",
      "batch_idx : 2\n",
      "X : tensor([[44, 45],\n",
      "        [36, 37]])\n",
      "y : tensor([0, 1])\n",
      "batch_idx : 3\n",
      "X : tensor([[112, 113],\n",
      "        [180, 181]])\n",
      "y : tensor([0, 1])\n",
      "batch_idx : 4\n",
      "X : tensor([[140, 141],\n",
      "        [ 16,  17]])\n",
      "y : tensor([1, 1])\n",
      "batch_idx : 5\n",
      "X : tensor([[124, 125],\n",
      "        [ 62,  63]])\n",
      "y : tensor([1, 1])\n",
      "batch_idx : 6\n",
      "X : tensor([[118, 119],\n",
      "        [  4,   5]])\n",
      "y : tensor([1, 1])\n",
      "batch_idx : 7\n",
      "X : tensor([[ 98,  99],\n",
      "        [102, 103]])\n",
      "y : tensor([1, 0])\n",
      "batch_idx : 8\n",
      "X : tensor([[190, 191],\n",
      "        [128, 129]])\n",
      "y : tensor([0, 1])\n",
      "batch_idx : 9\n",
      "X : tensor([[176, 177],\n",
      "        [ 50,  51]])\n",
      "y : tensor([1, 1])\n",
      "batch_idx : 10\n",
      "X : tensor([[ 78,  79],\n",
      "        [104, 105]])\n",
      "y : tensor([1, 1])\n",
      "batch_idx : 11\n",
      "X : tensor([[ 26,  27],\n",
      "        [192, 193]])\n",
      "y : tensor([0, 0])\n",
      "batch_idx : 12\n",
      "X : tensor([[ 96,  97],\n",
      "        [114, 115]])\n",
      "y : tensor([1, 1])\n",
      "batch_idx : 13\n",
      "X : tensor([[164, 165],\n",
      "        [146, 147]])\n",
      "y : tensor([1, 0])\n",
      "batch_idx : 14\n",
      "X : tensor([[ 70,  71],\n",
      "        [108, 109]])\n",
      "y : tensor([1, 0])\n",
      "batch_idx : 15\n",
      "X : tensor([[56, 57],\n",
      "        [58, 59]])\n",
      "y : tensor([1, 1])\n",
      "batch_idx : 16\n",
      "X : tensor([[122, 123],\n",
      "        [174, 175]])\n",
      "y : tensor([0, 1])\n",
      "batch_idx : 17\n",
      "X : tensor([[66, 67],\n",
      "        [32, 33]])\n",
      "y : tensor([0, 0])\n",
      "batch_idx : 18\n",
      "X : tensor([[88, 89],\n",
      "        [20, 21]])\n",
      "y : tensor([0, 1])\n",
      "batch_idx : 19\n",
      "X : tensor([[106, 107],\n",
      "        [ 12,  13]])\n",
      "y : tensor([0, 1])\n",
      "batch_idx : 20\n",
      "X : tensor([[196, 197],\n",
      "        [ 46,  47]])\n",
      "y : tensor([0, 1])\n",
      "batch_idx : 21\n",
      "X : tensor([[182, 183],\n",
      "        [126, 127]])\n",
      "y : tensor([0, 0])\n",
      "batch_idx : 22\n",
      "X : tensor([[ 90,  91],\n",
      "        [188, 189]])\n",
      "y : tensor([1, 1])\n",
      "batch_idx : 23\n",
      "X : tensor([[ 28,  29],\n",
      "        [156, 157]])\n",
      "y : tensor([1, 0])\n",
      "batch_idx : 24\n",
      "X : tensor([[184, 185],\n",
      "        [178, 179]])\n",
      "y : tensor([0, 0])\n",
      "batch_idx : 25\n",
      "X : tensor([[94, 95],\n",
      "        [42, 43]])\n",
      "y : tensor([1, 0])\n",
      "batch_idx : 26\n",
      "X : tensor([[152, 153],\n",
      "        [  8,   9]])\n",
      "y : tensor([0, 1])\n",
      "batch_idx : 27\n",
      "X : tensor([[40, 41],\n",
      "        [54, 55]])\n",
      "y : tensor([1, 0])\n",
      "batch_idx : 28\n",
      "X : tensor([[170, 171],\n",
      "        [ 82,  83]])\n",
      "y : tensor([0, 0])\n",
      "batch_idx : 29\n",
      "X : tensor([[68, 69],\n",
      "        [18, 19]])\n",
      "y : tensor([1, 0])\n",
      "batch_idx : 30\n",
      "X : tensor([[ 2,  3],\n",
      "        [30, 31]])\n",
      "y : tensor([1, 1])\n",
      "batch_idx : 31\n",
      "X : tensor([[136, 137],\n",
      "        [ 80,  81]])\n",
      "y : tensor([1, 0])\n",
      "batch_idx : 32\n",
      "X : tensor([[ 84,  85],\n",
      "        [162, 163]])\n",
      "y : tensor([1, 0])\n",
      "batch_idx : 33\n",
      "X : tensor([[110, 111],\n",
      "        [116, 117]])\n",
      "y : tensor([0, 0])\n",
      "batch_idx : 34\n",
      "X : tensor([[198, 199],\n",
      "        [ 14,  15]])\n",
      "y : tensor([1, 0])\n",
      "batch_idx : 35\n",
      "X : tensor([[168, 169],\n",
      "        [120, 121]])\n",
      "y : tensor([1, 1])\n",
      "batch_idx : 36\n",
      "X : tensor([[138, 139],\n",
      "        [186, 187]])\n",
      "y : tensor([1, 0])\n",
      "batch_idx : 37\n",
      "X : tensor([[ 0,  1],\n",
      "        [76, 77]])\n",
      "y : tensor([0, 1])\n",
      "batch_idx : 38\n",
      "X : tensor([[ 86,  87],\n",
      "        [160, 161]])\n",
      "y : tensor([1, 1])\n",
      "batch_idx : 39\n",
      "X : tensor([[148, 149],\n",
      "        [134, 135]])\n",
      "y : tensor([1, 1])\n",
      "batch_idx : 40\n",
      "X : tensor([[142, 143],\n",
      "        [ 74,  75]])\n",
      "y : tensor([1, 0])\n",
      "batch_idx : 41\n",
      "X : tensor([[ 10,  11],\n",
      "        [132, 133]])\n",
      "y : tensor([1, 0])\n",
      "batch_idx : 42\n",
      "X : tensor([[130, 131],\n",
      "        [ 92,  93]])\n",
      "y : tensor([1, 1])\n",
      "batch_idx : 43\n",
      "X : tensor([[100, 101],\n",
      "        [ 52,  53]])\n",
      "y : tensor([1, 1])\n",
      "batch_idx : 44\n",
      "X : tensor([[ 24,  25],\n",
      "        [166, 167]])\n",
      "y : tensor([1, 0])\n",
      "batch_idx : 45\n",
      "X : tensor([[ 22,  23],\n",
      "        [154, 155]])\n",
      "y : tensor([0, 1])\n",
      "batch_idx : 46\n",
      "X : tensor([[194, 195],\n",
      "        [172, 173]])\n",
      "y : tensor([1, 1])\n",
      "batch_idx : 47\n",
      "X : tensor([[60, 61],\n",
      "        [64, 65]])\n",
      "y : tensor([0, 1])\n",
      "batch_idx : 48\n",
      "X : tensor([[72, 73],\n",
      "        [ 6,  7]])\n",
      "y : tensor([1, 1])\n",
      "batch_idx : 49\n",
      "X : tensor([[150, 151],\n",
      "        [158, 159]])\n",
      "y : tensor([1, 0])\n"
     ]
    },
    {
     "name": "stderr",
     "output_type": "stream",
     "text": [
      "\n"
     ]
    }
   ],
   "source": [
    "from tqdm import tqdm\n",
    "\n",
    "for batch_idx, (inputs, labels) in enumerate(tqdm(dataloader)):\n",
    "    print(f'batch_idx : {batch_idx}')\n",
    "    print(f'X : {inputs}')\n",
    "    print(f'y : {labels}')\n",
    "    # if batch_idx == 2:\n",
    "    #     break"
   ]
  },
  {
   "cell_type": "code",
   "execution_count": null,
   "metadata": {},
   "outputs": [],
   "source": []
  }
 ],
 "metadata": {
  "kernelspec": {
   "display_name": "mk8574_3.10 [~/.conda/envs/mk8574_3.10/]",
   "language": "python",
   "name": "conda_mk8574_3.10"
  },
  "language_info": {
   "codemirror_mode": {
    "name": "ipython",
    "version": 3
   },
   "file_extension": ".py",
   "mimetype": "text/x-python",
   "name": "python",
   "nbconvert_exporter": "python",
   "pygments_lexer": "ipython3",
   "version": "3.10.13"
  }
 },
 "nbformat": 4,
 "nbformat_minor": 4
}
