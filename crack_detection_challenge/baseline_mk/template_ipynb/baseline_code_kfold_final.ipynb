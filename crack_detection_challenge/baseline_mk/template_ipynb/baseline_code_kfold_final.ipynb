{
 "cells": [
  {
   "cell_type": "code",
   "execution_count": 1,
   "metadata": {
    "colab": {
     "base_uri": "https://localhost:8080/",
     "height": 126
    },
    "executionInfo": {
     "elapsed": 35454,
     "status": "ok",
     "timestamp": 1700405721069,
     "user": {
      "displayName": "박기돈",
      "userId": "12822433786877269578"
     },
     "user_tz": -540
    },
    "id": "ILMnPBxTB8fW",
    "outputId": "8e733276-1f94-4756-a14e-ac12b712d1e4"
   },
   "outputs": [
    {
     "name": "stderr",
     "output_type": "stream",
     "text": [
      "/home/mk8574/.conda/envs/mk8574_3.10/lib/python3.10/site-packages/tqdm/auto.py:21: TqdmWarning: IProgress not found. Please update jupyter and ipywidgets. See https://ipywidgets.readthedocs.io/en/stable/user_install.html\n",
      "  from .autonotebook import tqdm as notebook_tqdm\n",
      "Failed to detect the name of this notebook, you can set it manually with the WANDB_NOTEBOOK_NAME environment variable to enable code saving.\n",
      "\u001b[34m\u001b[1mwandb\u001b[0m: Logging into wandb.ai. (Learn how to deploy a W&B server locally: https://wandb.me/wandb-server)\n",
      "\u001b[34m\u001b[1mwandb\u001b[0m: You can find your API key in your browser here: https://wandb.ai/authorize\n",
      "\u001b[34m\u001b[1mwandb\u001b[0m: Paste an API key from your profile and hit enter, or press ctrl+c to quit:"
     ]
    },
    {
     "name": "stdin",
     "output_type": "stream",
     "text": [
      "  ········································\n"
     ]
    },
    {
     "name": "stderr",
     "output_type": "stream",
     "text": [
      "\u001b[34m\u001b[1mwandb\u001b[0m: Appending key for api.wandb.ai to your netrc file: /home/mk8574/.netrc\n",
      "\u001b[34m\u001b[1mwandb\u001b[0m: Network error (ConnectionError), entering retry loop.\n"
     ]
    },
    {
     "data": {
      "text/plain": [
       "True"
      ]
     },
     "execution_count": 1,
     "metadata": {},
     "output_type": "execute_result"
    }
   ],
   "source": [
    "# 필요한 라이브러리들을 임포트합니다.\n",
    "from glob import glob\n",
    "import os\n",
    "# Log in to your W&B account\n",
    "import wandb\n",
    "import segmentation_models_pytorch as smp\n",
    "\n",
    "wandb.login()"
   ]
  },
  {
   "cell_type": "markdown",
   "metadata": {
    "id": "-j6sq5jfB8fa"
   },
   "source": [
    "### 데이터 경로를 설정합니다."
   ]
  },
  {
   "cell_type": "code",
   "execution_count": 4,
   "metadata": {
    "executionInfo": {
     "elapsed": 373,
     "status": "ok",
     "timestamp": 1700405724995,
     "user": {
      "displayName": "박기돈",
      "userId": "12822433786877269578"
     },
     "user_tz": -540
    },
    "id": "iIkeB47RB8fc"
   },
   "outputs": [],
   "source": [
    "# 데이터 경로를 설정해줍니다.\n",
    "data_directory = '/scratch/network/mk8574/crack_detection_challenge/data'\n",
    "\n",
    "# 학습용 데이터 경로와 마스크 경로를 설정해줍니다.\n",
    "train_image_directory = os.path.join(data_directory, 'train', 'images') # 학습용 이미지 경로\n",
    "train_mask_directory = os.path.join(data_directory, 'train', 'masks') # 학습용 마스크 경로\n",
    "\n",
    "# 테스트용 데이터 경로와 마스크 경로를 설정해줍니다.\n",
    "test_image_directory = os.path.join(data_directory, 'test', 'images') # 테스트용 이미지 경로"
   ]
  },
  {
   "cell_type": "code",
   "execution_count": 5,
   "metadata": {
    "colab": {
     "base_uri": "https://localhost:8080/"
    },
    "executionInfo": {
     "elapsed": 73706,
     "status": "ok",
     "timestamp": 1700405800665,
     "user": {
      "displayName": "박기돈",
      "userId": "12822433786877269578"
     },
     "user_tz": -540
    },
    "id": "TvMJoqdWB8fd",
    "outputId": "9f0f6cb9-b0e5-4c64-f0f2-e56bc93ede3f"
   },
   "outputs": [
    {
     "name": "stdout",
     "output_type": "stream",
     "text": [
      "학습용 이미지 개수 : 5986, 마스크 개수 : 5986\n",
      "평가용 이미지 개수 : 3992\n"
     ]
    }
   ],
   "source": [
    "# 각 경로에 존재하는 파일들의 경로를 리스트로 저장합니다.\n",
    "train_image_paths = sorted(glob(os.path.join(train_image_directory, '*.jpg')))\n",
    "train_mask_paths = sorted(glob(os.path.join(train_mask_directory, '*.png')))\n",
    "\n",
    "test_image_paths = sorted(glob(os.path.join(test_image_directory, '*.jpg')))\n",
    "\n",
    "# 각 이미지와 마스크의 수량을 체크하는 코드입니다.\n",
    "print(f'학습용 이미지 개수 : {len(train_image_paths)}, 마스크 개수 : {len(train_mask_paths)}')\n",
    "print(f'평가용 이미지 개수 : {len(test_image_paths)}')"
   ]
  },
  {
   "cell_type": "code",
   "execution_count": 6,
   "metadata": {
    "colab": {
     "base_uri": "https://localhost:8080/"
    },
    "executionInfo": {
     "elapsed": 5,
     "status": "ok",
     "timestamp": 1700405801634,
     "user": {
      "displayName": "박기돈",
      "userId": "12822433786877269578"
     },
     "user_tz": -540
    },
    "id": "bJFk5eCtB8fd",
    "outputId": "a6887d25-9cea-4480-f39e-b419d1dd7f48"
   },
   "outputs": [
    {
     "name": "stdout",
     "output_type": "stream",
     "text": [
      "이미지 경로 예시 : ['/scratch/network/mk8574/crack_detection_challenge/data/train/images/train_00000.jpg', '/scratch/network/mk8574/crack_detection_challenge/data/train/images/train_00001.jpg', '/scratch/network/mk8574/crack_detection_challenge/data/train/images/train_00002.jpg', '/scratch/network/mk8574/crack_detection_challenge/data/train/images/train_00003.jpg', '/scratch/network/mk8574/crack_detection_challenge/data/train/images/train_00004.jpg']\n",
      "마스크 경로 예시 : ['/scratch/network/mk8574/crack_detection_challenge/data/train/masks/train_00000.png', '/scratch/network/mk8574/crack_detection_challenge/data/train/masks/train_00001.png', '/scratch/network/mk8574/crack_detection_challenge/data/train/masks/train_00002.png', '/scratch/network/mk8574/crack_detection_challenge/data/train/masks/train_00003.png', '/scratch/network/mk8574/crack_detection_challenge/data/train/masks/train_00004.png']\n"
     ]
    }
   ],
   "source": [
    "# 이미지와 마스크의 경로 예시를 보고 혹시 파일 리스트가 순서대로 정렬되어 있지 않는지 확인해봅니다.\n",
    "print(f'이미지 경로 예시 : {train_image_paths[:5]}')\n",
    "print(f'마스크 경로 예시 : {train_mask_paths[:5]}')"
   ]
  },
  {
   "cell_type": "markdown",
   "metadata": {
    "id": "zJtiLIvpB8fe"
   },
   "source": [
    "### Pytorch Dataset 클래스 정의\n",
    "Pytorch Dataset 클래스는 AI 모델에 데이터를 입력하기 전에 데이터를 가공 및 표준화하는 역할을 합니다."
   ]
  },
  {
   "cell_type": "code",
   "execution_count": 7,
   "metadata": {
    "executionInfo": {
     "elapsed": 399,
     "status": "ok",
     "timestamp": 1700405830888,
     "user": {
      "displayName": "박기돈",
      "userId": "12822433786877269578"
     },
     "user_tz": -540
    },
    "id": "YJlhu0oFB8fe"
   },
   "outputs": [],
   "source": [
    "# 필요한 라이브러리들을 임포트합니다.\n",
    "import torch\n",
    "import torch.nn.functional as F\n",
    "from torch.utils.data import Dataset\n",
    "from PIL import Image\n",
    "import numpy as np\n",
    "from torchvision import transforms"
   ]
  },
  {
   "cell_type": "code",
   "execution_count": 8,
   "metadata": {
    "executionInfo": {
     "elapsed": 561,
     "status": "ok",
     "timestamp": 1700405847143,
     "user": {
      "displayName": "박기돈",
      "userId": "12822433786877269578"
     },
     "user_tz": -540
    },
    "id": "w6viWROhB8ff"
   },
   "outputs": [],
   "source": [
    "class SegDataset(Dataset):\n",
    "    def __init__(self, image_paths, mask_paths=None, resize=(256, 256), mode='train'):\n",
    "        '''\n",
    "        image_paths: 이미지 경로들의 리스트\n",
    "        mask_paths: 마스크 경로들의 리스트\n",
    "        size: 이미지와 마스크를 리사이즈를 몇으로 할 지 결정하는 변수\n",
    "        mode: train인지 test인지를 결정하는 변수\n",
    "        '''\n",
    "        self.image_paths = image_paths # 이미지 경로들의 리스트를 저장합니다.\n",
    "        self.mask_paths = mask_paths # 마스크 경로들의 리스트를 저장합니다.\n",
    "        self.resize = resize # 리사이즈 변수를 저장합니다.\n",
    "        self.mode = mode # 모드 변수를 저장합니다.\n",
    "        self.transform = transforms.Compose([\n",
    "                transforms.ToTensor(), # 텐서 변환\n",
    "                transforms.Normalize([0.485, 0.456, 0.406], [0.229, 0.224, 0.225]) # 정규화\n",
    "            ]) # 이미지를 텐서로 변환하고 정규화하는 코드입니다.\n",
    "\n",
    "    def __len__(self):\n",
    "        return len(self.image_paths) # 데이터셋의 길이를 반환합니다.\n",
    "\n",
    "    def __getitem__(self, idx):\n",
    "        image_path = self.image_paths[idx] # idx 번째 이미지 경로를 불러옵니다. ex) 전체 이미지 중 첫 번째 이미지\n",
    "        filename = os.path.basename(image_path) # 이미지 경로에서 이미지 파일의 이름을 불러옵니다. ex) train_0001.png\n",
    "\n",
    "        # image를 불러옵니다.\n",
    "        image = Image.open(image_path) # 이미지 경로를 참조해 이미지를 불러옵니다. BGR 형태의 이미지입니다.\n",
    "        image = image.convert('RGB') # RGB 형태로 변환합니다.\n",
    "        image_size = torch.tensor(image.size) # 이미지의 사이즈를 저장합니다.\n",
    "\n",
    "        # image를 resize합니다.\n",
    "        image = image.resize(self.resize)\n",
    "\n",
    "        # image를 torch tensor로 변환합니다.\n",
    "        image = self.transform(image).float() # 딥러닝 모델의 입력은 float형이어야 합니다.\n",
    "\n",
    "        if self.mode == 'train' or self.mode == 'val':\n",
    "            mask_path = self.mask_paths[idx] # idx 번째 마스크 경로를 불러옵니다.\n",
    "\n",
    "            # mask를 로드합니다.\n",
    "            mask = Image.open(mask_path) # 마스크 경로를 참조해 마스크(정답)를 불러옵니다. Gray 이미지이며, 0부터 59 사이의 값을 가집니다.\n",
    "\n",
    "            # mask를 resize합니다.\n",
    "            # 마스크 이미지는 resize 할때 iterpolation 방식에 각별히 주의해야 합니다.\n",
    "            # linear interpolation 등을 사용하면 유효하지 않은 mask 값이 될 수 있습니다.\n",
    "            # 따라서 주변에 있는 픽셀 값으로 interpolation 해야합니다.\n",
    "            mask = mask.resize(self.resize, resample=Image.NEAREST) # 마스크를 리사이징합니다.\n",
    "\n",
    "            # mask를 torch tensor로 변환합니다.\n",
    "            mask = torch.from_numpy(np.array(mask)).long() # 정답은 정수형이어야 하므로 long형으로 변환합니다.\n",
    "\n",
    "        else:\n",
    "            mask = np.zeros(self.resize) # 테스트 데이터셋의 경우 마스크가 없으므로 0으로 채워진 마스크를 만듭니다.\n",
    "        # 이미지, 마스크, 파일이름, 이미지 원본 사이즈 순으로 반환합니다.\n",
    "        return image, mask, filename, image_size"
   ]
  },
  {
   "cell_type": "markdown",
   "metadata": {
    "id": "OKN3-Yx1B8ff"
   },
   "source": [
    "###  모델 학습과 검증을 수행합니다."
   ]
  },
  {
   "cell_type": "code",
   "execution_count": 9,
   "metadata": {
    "executionInfo": {
     "elapsed": 3,
     "status": "ok",
     "timestamp": 1700405888397,
     "user": {
      "displayName": "박기돈",
      "userId": "12822433786877269578"
     },
     "user_tz": -540
    },
    "id": "QXPRdXp6Frez"
   },
   "outputs": [],
   "source": [
    "import shutil\n",
    "\n",
    "# 학습된 모델을 저장할 경로를 설정합니다.\n",
    "save_directory = 'results/model'\n",
    "\n",
    "# 이미 경로가 있으면 삭제합니다.\n",
    "if os.path.isdir(save_directory):\n",
    "  shutil.rmtree(save_directory)\n",
    "\n",
    "# 경로를 생성합니다.\n",
    "os.makedirs(save_directory, exist_ok=True)"
   ]
  },
  {
   "cell_type": "code",
   "execution_count": 10,
   "metadata": {
    "colab": {
     "base_uri": "https://localhost:8080/"
    },
    "executionInfo": {
     "elapsed": 512,
     "status": "ok",
     "timestamp": 1700405853018,
     "user": {
      "displayName": "박기돈",
      "userId": "12822433786877269578"
     },
     "user_tz": -540
    },
    "id": "RYixTJ0oB8fg",
    "outputId": "b05dda4c-8cb8-47a8-98dd-1c550250c39d"
   },
   "outputs": [
    {
     "name": "stdout",
     "output_type": "stream",
     "text": [
      "cuda\n"
     ]
    }
   ],
   "source": [
    "from sklearn.model_selection import KFold\n",
    "import torch.optim as optim\n",
    "\n",
    "split = 2\n",
    "kfold = KFold(n_splits=split, shuffle=False)\n",
    "\n",
    "# 어떤 장치에서 학습할지 결정합니다. cuda는 gpu를 사용한다는 것을 의미합니다.\n",
    "device = torch.device('cuda' if torch.cuda.is_available() else 'cpu')\n",
    "print(device)"
   ]
  },
  {
   "cell_type": "code",
   "execution_count": 11,
   "metadata": {
    "colab": {
     "base_uri": "https://localhost:8080/",
     "height": 719,
     "referenced_widgets": [
      "83807f458c4b48bc92597b95fed3e7ec",
      "fa2b9268e5f34ce680c33f9dce445b61",
      "a6ba83ee25e34127a407369f14e06ff1",
      "d9262b27ece94935b5305418000be3f2",
      "2829b5f6973349748d00156e19001f26",
      "4f227fc22dd84130b6af77f33fc3e704",
      "399ded8642ae442cb6bfa92541d31836",
      "8cc6df51e0f14d36a196b9c31909e5c4",
      "4b84f0cfb50442bd9600ceddd70cc5d5",
      "89f842c2572642daa66c60c5a9357b41",
      "533cc399bbff4cde9c0538cefce97665",
      "68d0432e6d3b43efb868ba7e0dd11279",
      "946674b1cb92434aba26bc738a4d2a78",
      "047886d6f7304944b55ec6f8e72aec32",
      "2b6d98b66a294a7aa067c0416c4015c3",
      "ed2bc12299314b59b6b4122f65e6dbc3",
      "88c4449e81174aada72abbbd035715d7",
      "807eb8e440ec4cd8a02bbf772aa54605",
      "7e1a5a5d7da64ac79cab57408654b0be",
      "ac99115e7fa442bdabe5e3564195f8f3",
      "734ac4b7b8834c94ba5dbceae8bd43cc",
      "1cc966ec4d134389843f7c2cdffd3772",
      "ef0ef86f85ea461c921b8b9f1a1c9bad",
      "8093fc1a869542459b554c9de5e3c1b8"
     ]
    },
    "executionInfo": {
     "elapsed": 115534,
     "status": "ok",
     "timestamp": 1700406239854,
     "user": {
      "displayName": "박기돈",
      "userId": "12822433786877269578"
     },
     "user_tz": -540
    },
    "id": "Iw-jRaZgB8fg",
    "outputId": "ef52bc20-ec41-47a5-97ea-ef6387719f06"
   },
   "outputs": [
    {
     "name": "stderr",
     "output_type": "stream",
     "text": [
      "\u001b[34m\u001b[1mwandb\u001b[0m: W&B API key is configured. Use \u001b[1m`wandb login --relogin`\u001b[0m to force relogin\n",
      "wandb: Network error (ConnectionError), entering retry loop.\n"
     ]
    },
    {
     "name": "stdout",
     "output_type": "stream",
     "text": [
      "Problem at: /tmp/ipykernel_1117999/756465083.py 10 <module>\n"
     ]
    },
    {
     "ename": "CommError",
     "evalue": "Run initialization has timed out after 90.0 sec. \nPlease refer to the documentation for additional information: https://docs.wandb.ai/guides/track/tracking-faq#initstarterror-error-communicating-with-wandb-process-",
     "output_type": "error",
     "traceback": [
      "\u001b[0;31m---------------------------------------------------------------------------\u001b[0m",
      "\u001b[0;31mCommError\u001b[0m                                 Traceback (most recent call last)",
      "Cell \u001b[0;32mIn[11], line 10\u001b[0m\n\u001b[1;32m      7\u001b[0m num_epochs \u001b[38;5;241m=\u001b[39m \u001b[38;5;241m1\u001b[39m  \u001b[38;5;66;03m#학습할 에폭의 수를 결정합니다.\u001b[39;00m\n\u001b[1;32m      8\u001b[0m \u001b[38;5;28;01mfor\u001b[39;00m i, (train_index, test_index) \u001b[38;5;129;01min\u001b[39;00m \u001b[38;5;28menumerate\u001b[39m(kfold\u001b[38;5;241m.\u001b[39msplit(train_image_paths, train_mask_paths)):\n\u001b[1;32m      9\u001b[0m     \u001b[38;5;66;03m# WandB 사용을 위한 초기 설정을 합니다.\u001b[39;00m\n\u001b[0;32m---> 10\u001b[0m     \u001b[43mwandb\u001b[49m\u001b[38;5;241;43m.\u001b[39;49m\u001b[43minit\u001b[49m\u001b[43m(\u001b[49m\n\u001b[1;32m     11\u001b[0m \u001b[43m        \u001b[49m\u001b[43mproject\u001b[49m\u001b[38;5;241;43m=\u001b[39;49m\u001b[38;5;124;43m\"\u001b[39;49m\u001b[38;5;124;43mcrack_segmentation\u001b[39;49m\u001b[38;5;124;43m\"\u001b[39;49m\u001b[43m,\u001b[49m\n\u001b[1;32m     12\u001b[0m \u001b[43m        \u001b[49m\u001b[43mname\u001b[49m\u001b[38;5;241;43m=\u001b[39;49m\u001b[38;5;124;43mf\u001b[39;49m\u001b[38;5;124;43m\"\u001b[39;49m\u001b[38;5;124;43mfold_\u001b[39;49m\u001b[38;5;132;43;01m{\u001b[39;49;00m\u001b[43mi\u001b[49m\u001b[38;5;132;43;01m}\u001b[39;49;00m\u001b[38;5;124;43m\"\u001b[39;49m\u001b[43m,\u001b[49m\n\u001b[1;32m     13\u001b[0m \u001b[43m        \u001b[49m\u001b[43mconfig\u001b[49m\u001b[38;5;241;43m=\u001b[39;49m\u001b[43m{\u001b[49m\n\u001b[1;32m     14\u001b[0m \u001b[43m            \u001b[49m\u001b[38;5;124;43m\"\u001b[39;49m\u001b[38;5;124;43mencoder_name\u001b[39;49m\u001b[38;5;124;43m\"\u001b[39;49m\u001b[43m \u001b[49m\u001b[43m:\u001b[49m\u001b[43m \u001b[49m\u001b[38;5;124;43m'\u001b[39;49m\u001b[38;5;124;43mtimm-efficientnet-b0\u001b[39;49m\u001b[38;5;124;43m'\u001b[39;49m\u001b[43m,\u001b[49m\n\u001b[1;32m     15\u001b[0m \u001b[43m            \u001b[49m\u001b[38;5;124;43m'\u001b[39;49m\u001b[38;5;124;43mencoder_weights\u001b[39;49m\u001b[38;5;124;43m'\u001b[39;49m\u001b[43m \u001b[49m\u001b[43m:\u001b[49m\u001b[43m \u001b[49m\u001b[38;5;124;43m'\u001b[39;49m\u001b[38;5;124;43mimagenet\u001b[39;49m\u001b[38;5;124;43m'\u001b[39;49m\u001b[43m,\u001b[49m\n\u001b[1;32m     16\u001b[0m \u001b[43m            \u001b[49m\u001b[38;5;124;43m\"\u001b[39;49m\u001b[38;5;124;43mlearning_rate\u001b[39;49m\u001b[38;5;124;43m\"\u001b[39;49m\u001b[43m:\u001b[49m\u001b[43m \u001b[49m\u001b[38;5;241;43m0.02\u001b[39;49m\u001b[43m,\u001b[49m\n\u001b[1;32m     17\u001b[0m \u001b[43m            \u001b[49m\u001b[38;5;124;43m\"\u001b[39;49m\u001b[38;5;124;43mepochs\u001b[39;49m\u001b[38;5;124;43m\"\u001b[39;49m\u001b[43m:\u001b[49m\u001b[43m \u001b[49m\u001b[38;5;241;43m10\u001b[39;49m\u001b[43m,\u001b[49m\n\u001b[1;32m     18\u001b[0m \u001b[43m            \u001b[49m\u001b[38;5;124;43m\"\u001b[39;49m\u001b[38;5;124;43mbatch_size\u001b[39;49m\u001b[38;5;124;43m\"\u001b[39;49m\u001b[43m:\u001b[49m\u001b[43m \u001b[49m\u001b[38;5;241;43m16\u001b[39;49m\u001b[43m,\u001b[49m\n\u001b[1;32m     19\u001b[0m \u001b[43m            \u001b[49m\u001b[38;5;124;43m'\u001b[39;49m\u001b[38;5;124;43mlearning_rate\u001b[39;49m\u001b[38;5;124;43m'\u001b[39;49m\u001b[43m:\u001b[49m\u001b[38;5;241;43m0.01\u001b[39;49m\n\u001b[1;32m     20\u001b[0m \u001b[43m        \u001b[49m\u001b[43m}\u001b[49m\u001b[43m)\u001b[49m\n\u001b[1;32m     22\u001b[0m     config \u001b[38;5;241m=\u001b[39m wandb\u001b[38;5;241m.\u001b[39mconfig\n\u001b[1;32m     23\u001b[0m     \u001b[38;5;66;03m# 데이터 split\u001b[39;00m\n",
      "File \u001b[0;32m~/.conda/envs/mk8574_3.10/lib/python3.10/site-packages/wandb/sdk/wandb_init.py:1185\u001b[0m, in \u001b[0;36minit\u001b[0;34m(job_type, dir, config, project, entity, reinit, tags, group, name, notes, magic, config_exclude_keys, config_include_keys, anonymous, mode, allow_val_change, resume, force, tensorboard, sync_tensorboard, monitor_gym, save_code, id, settings)\u001b[0m\n\u001b[1;32m   1183\u001b[0m     \u001b[38;5;28;01mif\u001b[39;00m logger \u001b[38;5;129;01mis\u001b[39;00m \u001b[38;5;129;01mnot\u001b[39;00m \u001b[38;5;28;01mNone\u001b[39;00m:\n\u001b[1;32m   1184\u001b[0m         logger\u001b[38;5;241m.\u001b[39mexception(\u001b[38;5;28mstr\u001b[39m(e))\n\u001b[0;32m-> 1185\u001b[0m     \u001b[38;5;28;01mraise\u001b[39;00m e\n\u001b[1;32m   1186\u001b[0m \u001b[38;5;28;01mexcept\u001b[39;00m \u001b[38;5;167;01mKeyboardInterrupt\u001b[39;00m \u001b[38;5;28;01mas\u001b[39;00m e:\n\u001b[1;32m   1187\u001b[0m     \u001b[38;5;28;01massert\u001b[39;00m logger\n",
      "File \u001b[0;32m~/.conda/envs/mk8574_3.10/lib/python3.10/site-packages/wandb/sdk/wandb_init.py:1166\u001b[0m, in \u001b[0;36minit\u001b[0;34m(job_type, dir, config, project, entity, reinit, tags, group, name, notes, magic, config_exclude_keys, config_include_keys, anonymous, mode, allow_val_change, resume, force, tensorboard, sync_tensorboard, monitor_gym, save_code, id, settings)\u001b[0m\n\u001b[1;32m   1164\u001b[0m except_exit \u001b[38;5;241m=\u001b[39m wi\u001b[38;5;241m.\u001b[39msettings\u001b[38;5;241m.\u001b[39m_except_exit\n\u001b[1;32m   1165\u001b[0m \u001b[38;5;28;01mtry\u001b[39;00m:\n\u001b[0;32m-> 1166\u001b[0m     run \u001b[38;5;241m=\u001b[39m \u001b[43mwi\u001b[49m\u001b[38;5;241;43m.\u001b[39;49m\u001b[43minit\u001b[49m\u001b[43m(\u001b[49m\u001b[43m)\u001b[49m\n\u001b[1;32m   1167\u001b[0m     except_exit \u001b[38;5;241m=\u001b[39m wi\u001b[38;5;241m.\u001b[39msettings\u001b[38;5;241m.\u001b[39m_except_exit\n\u001b[1;32m   1168\u001b[0m \u001b[38;5;28;01mexcept\u001b[39;00m (\u001b[38;5;167;01mKeyboardInterrupt\u001b[39;00m, \u001b[38;5;167;01mException\u001b[39;00m) \u001b[38;5;28;01mas\u001b[39;00m e:\n",
      "File \u001b[0;32m~/.conda/envs/mk8574_3.10/lib/python3.10/site-packages/wandb/sdk/wandb_init.py:781\u001b[0m, in \u001b[0;36m_WandbInit.init\u001b[0;34m(self)\u001b[0m\n\u001b[1;32m    779\u001b[0m         backend\u001b[38;5;241m.\u001b[39mcleanup()\n\u001b[1;32m    780\u001b[0m         \u001b[38;5;28mself\u001b[39m\u001b[38;5;241m.\u001b[39mteardown()\n\u001b[0;32m--> 781\u001b[0m     \u001b[38;5;28;01mraise\u001b[39;00m error\n\u001b[1;32m    783\u001b[0m \u001b[38;5;28;01massert\u001b[39;00m run_result \u001b[38;5;129;01mis\u001b[39;00m \u001b[38;5;129;01mnot\u001b[39;00m \u001b[38;5;28;01mNone\u001b[39;00m  \u001b[38;5;66;03m# for mypy\u001b[39;00m\n\u001b[1;32m    785\u001b[0m \u001b[38;5;28;01mif\u001b[39;00m \u001b[38;5;129;01mnot\u001b[39;00m run_result\u001b[38;5;241m.\u001b[39mHasField(\u001b[38;5;124m\"\u001b[39m\u001b[38;5;124mrun\u001b[39m\u001b[38;5;124m\"\u001b[39m):\n",
      "\u001b[0;31mCommError\u001b[0m: Run initialization has timed out after 90.0 sec. \nPlease refer to the documentation for additional information: https://docs.wandb.ai/guides/track/tracking-faq#initstarterror-error-communicating-with-wandb-process-"
     ]
    }
   ],
   "source": [
    "# 필요한 라이브러리를 임포트합니다.\n",
    "from tqdm import tqdm\n",
    "import torch\n",
    "from torch.utils.data import DataLoader\n",
    "import torch.nn as nn\n",
    "\n",
    "num_epochs = 1  #학습할 에폭의 수를 결정합니다.\n",
    "for i, (train_index, test_index) in enumerate(kfold.split(train_image_paths, train_mask_paths)):\n",
    "    # WandB 사용을 위한 초기 설정을 합니다.\n",
    "    ########################################3\n",
    "    wandb.init(\n",
    "        project=\"crack_segmentation\",\n",
    "        name=f\"fold_{i}\",\n",
    "        config={\n",
    "            \"encoder_name\" : 'timm-efficientnet-b0',\n",
    "            'encoder_weights' : 'imagenet',\n",
    "            \"learning_rate\": 0.02,\n",
    "            \"epochs\": 10,\n",
    "            \"batch_size\": 16,\n",
    "            'learning_rate':0.01\n",
    "        })\n",
    "    ############################################\n",
    "    \n",
    "    config = wandb.config\n",
    "    # 데이터 split\n",
    "\n",
    "    fold_train_image_paths = np.array(train_image_paths)[train_index].tolist()[:100]\n",
    "    fold_train_mask_paths = np.array(train_mask_paths)[train_index].tolist()[:100]\n",
    "    fold_valid_image_paths = np.array(train_image_paths)[test_index].tolist()[:100]\n",
    "    fold_valid_mask_paths = np.array(train_mask_paths)[test_index].tolist()[:100]\n",
    "\n",
    "    # 데이터셋 & 데이터 로더 생성\n",
    "    train_dataset = SegDataset(fold_train_image_paths, fold_train_mask_paths, mode='train') # 학습 (train) 데이터 인스턴스 생성\n",
    "    val_dataset = SegDataset(fold_valid_image_paths, fold_valid_mask_paths, mode='val') # 검증 (valid) 데이터 인스턴스 생성\n",
    "    train_loader = DataLoader(train_dataset, batch_size=config['batch_size'], shuffle=True, num_workers=2) # 학습 데이터 로더\n",
    "    val_loader = DataLoader(val_dataset, batch_size=config['batch_size'], shuffle=False, num_workers=2) # 검증 데이터 로더\n",
    "\n",
    "    # 모델 & optimizer & loss function 설정\n",
    "    model = smp.Unet(classes=2,\n",
    "                    encoder_name = config['encoder_name'],\n",
    "                    encoder_weights = config['encoder_weights']).to(device)\n",
    "\n",
    "    optimizer = optim.SGD(model.parameters(), lr=config['learning_rate'])\n",
    "\n",
    "    loss_function = nn.CrossEntropyLoss()\n",
    "\n",
    "    best_acc = 0\n",
    "\n",
    "    for epoch in range(num_epochs):\n",
    "\n",
    "        # 학습을 수행합니다.\n",
    "        model.train() # 모델을 학습 모드로 설정합니다.\n",
    "\n",
    "\n",
    "        # 학습 데이터에 대한 정답율을 기록할 리스트를 선언합니다.\n",
    "        train_accs = []\n",
    "\n",
    "        # 학습 데이터셋으로부터 데이터를 가져옵니다.\n",
    "        for image, mask, filename, image_size in tqdm(train_loader, position=0, leave=True, desc=f'Fold : {i} epoch: {epoch} | train'):\n",
    "\n",
    "            # 가져온 데이터를 장치에 할당합니다.\n",
    "            image = image.to(device) # 이미지의 차원은 [배치사이즈, 채널 수, 이미지 높이, 이미지 넓이]입니다.\n",
    "            mask = mask.to(device) # 마스크의 차원은 [배치사이즈, 이미지 높이, 이미지 넓이]입니다.\n",
    "\n",
    "            # 모델의 출력값을 계산합니다.\n",
    "            # 예측 결과인 pred_mask는 [배치사이즈, 클래스 수, 이미지 높이, 이미지 넓이]차원의 행렬 형태를 가집니다.\n",
    "            pred_mask = model(image)\n",
    "\n",
    "            # loss를 계산합니다.\n",
    "            loss = loss_function(pred_mask, mask)\n",
    "\n",
    "            # loss를 통해 모델을 학습합니다.\n",
    "            optimizer.zero_grad() # gradient를 초기화합니다.\n",
    "            loss.backward() # gradient를 계산합니다.\n",
    "            optimizer.step() # gradient를 통해 파라미터를 업데이트합니다.\n",
    "\n",
    "            # argmax 연산을 통해 확률이 가장 높은 클래스를 예측값으로 선택합니다.\n",
    "            # [배치사이즈, 클래스 수, 이미지 높이, 이미지 넓이] -> [배치사이즈, 이미지 높이, 이미지 넓이]로 변환됩니다.\n",
    "            pred_mask = torch.argmax(pred_mask, dim=1)\n",
    "\n",
    "            # 해당 배치에 대한 성능 평가를 진행합니다.\n",
    "            batch_acc =  (pred_mask == mask).float().mean().cpu().item()\n",
    "            train_accs.append(batch_acc)\n",
    "\n",
    "        # 검증을 수행합니다.\n",
    "        model.eval() # 모델을 검증 모드로 설정합니다.\n",
    "\n",
    "        # 검증 데이터에 대한 정답율을 기록할 리스트를 선언합니다.\n",
    "        val_accs = []\n",
    "\n",
    "        # 검증 데이터셋으로부터 데이터를 가져옵니다.\n",
    "        for image, mask, filename, image_size in tqdm(val_loader, position=0, leave=True, desc=f'Fold : {i} epoch: {epoch} | val'):\n",
    "\n",
    "                # 가져온 데이터를 장치에 할당합니다.\n",
    "                image = image.to(device) # 이미지의 차원은 [배치사이즈, 채널 수, 이미지 높이, 이미지 넓이]입니다.\n",
    "                mask = mask.to(device) # 마스크의 차원은 [배치사이즈, 이미지 높이, 이미지 넓이]입니다.\n",
    "\n",
    "                # 모델의 출력값을 계산합니다.\n",
    "                # 예측 결과인 pred_mask는 [배치사이즈, 클래스 수, 이미지 높이, 이미지 넓이]차원의 행렬 형태를 가집니다.\n",
    "                pred_mask = model(image)\n",
    "\n",
    "                # argmax 연산을 통해 확률이 가장 높은 클래스를 예측값으로 선택합니다.\n",
    "                # [배치사이즈, 클래스 수, 이미지 높이, 이미지 넓이] -> [배치사이즈, 이미지 높이, 이미지 넓이]로 변환됩니다.\n",
    "                pred_mask = torch.argmax(pred_mask, dim=1)\n",
    "\n",
    "                # 해당 배치에 대한 성능 평가를 진행합니다.\n",
    "                batch_acc =  (pred_mask == mask).float().mean().cpu().item()\n",
    "                val_accs.append(batch_acc)\n",
    "\n",
    "        train_acc = sum(train_accs) / len(train_accs)\n",
    "        val_acc = sum(val_accs) / len(val_accs)\n",
    "\n",
    "        ######################################## LOGGING TO WANDB ############################################3\n",
    "        wandb.log({'train_acc': train_acc, 'val_acc': val_acc})\n",
    "        ###################################################################################################3333333\n",
    "\n",
    "        print(f'Fold : {i}, 에폭 : {epoch}, 학습 정확도 : {train_acc}, 검증 정확도 : {val_acc}')\n",
    "\n",
    "        # validation accuracy가 최고를 갱신하면 모델을 저장합니다.\n",
    "        if val_acc > best_acc: # 이번 에폭의 기존의 최고 accuracy보다 높으면\n",
    "            best_acc = val_acc # 최고 accuracy를 갱신하고\n",
    "            torch.save(model.state_dict(), f'{save_directory}/best_model_fold_{i}.pt') # 모델을 저장합니다.\n",
    "            print(f'Fold : {i}, Best performance at epoch {epoch} : {best_acc}')\n"
   ]
  },
  {
   "cell_type": "markdown",
   "metadata": {
    "id": "UJk56-MXB8fj"
   },
   "source": [
    "# 추론을 수행합니다."
   ]
  },
  {
   "cell_type": "code",
   "execution_count": null,
   "metadata": {
    "executionInfo": {
     "elapsed": 400,
     "status": "ok",
     "timestamp": 1700406281976,
     "user": {
      "displayName": "박기돈",
      "userId": "12822433786877269578"
     },
     "user_tz": -540
    },
    "id": "Q5wY2CSkHLqr"
   },
   "outputs": [],
   "source": [
    "# 예측 결과를 저장할 경로를 생성합니다.\n",
    "pred_save_directory = 'results/pred'\n",
    "\n",
    "# 이미 경로가 있으면 삭제합니다.\n",
    "if os.path.isdir(pred_save_directory):\n",
    "  shutil.rmtree(pred_save_directory)\n",
    "\n",
    "# 경로를 생성합니다.\n",
    "os.makedirs(pred_save_directory, exist_ok=True)"
   ]
  },
  {
   "cell_type": "code",
   "execution_count": null,
   "metadata": {
    "executionInfo": {
     "elapsed": 361,
     "status": "ok",
     "timestamp": 1700406288172,
     "user": {
      "displayName": "박기돈",
      "userId": "12822433786877269578"
     },
     "user_tz": -540
    },
    "id": "cD2qDRS3B8fj"
   },
   "outputs": [],
   "source": [
    "# 학습이 완료된 모델을 로드합니다.\n",
    "model = smp.Unet(classes=2, # 의류 종류 수에 맞게 클래스를 결정합니다.\n",
    "                 encoder_name = 'timm-efficientnet-b0', # encoder 모델 구조를 결정합니다.\n",
    "                 encoder_weights = 'imagenet') # encoder 모델에 어떤 사전학습 모델을 적용할지 지정합니다.\n",
    "\n",
    "model = model.to(device)"
   ]
  },
  {
   "cell_type": "code",
   "execution_count": null,
   "metadata": {
    "executionInfo": {
     "elapsed": 2,
     "status": "ok",
     "timestamp": 1700406300039,
     "user": {
      "displayName": "박기돈",
      "userId": "12822433786877269578"
     },
     "user_tz": -540
    },
    "id": "0T56htqGHQR1"
   },
   "outputs": [],
   "source": [
    "# 데이터셋 & 데이터로더\n",
    "test_dataset = SegDataset(test_image_paths, mode='test') # 평가 (test) 데이터 인스턴스 생성\n",
    "test_loader = DataLoader(test_dataset, batch_size=16, shuffle=False, num_workers=2) # 평가 데이터 로더"
   ]
  },
  {
   "cell_type": "code",
   "execution_count": null,
   "metadata": {
    "colab": {
     "base_uri": "https://localhost:8080/"
    },
    "executionInfo": {
     "elapsed": 971312,
     "status": "ok",
     "timestamp": 1700407279385,
     "user": {
      "displayName": "박기돈",
      "userId": "12822433786877269578"
     },
     "user_tz": -540
    },
    "id": "LKqjgmvGB8fj",
    "outputId": "aa163215-5a3c-432e-fee5-6c5488647d7a"
   },
   "outputs": [],
   "source": [
    "for image, _, filename, image_size in tqdm(test_loader, position=0, leave=True, desc=f'Prediction'):\n",
    "    # 가져온 데이터를 장치에 할당합니다.\n",
    "    image = image.to(device)\n",
    "\n",
    "    # 모델의 출력값을 계산합니다.\n",
    "    for fold in range(split):\n",
    "        model.load_state_dict(torch.load(f'{save_directory}/best_model_fold_{fold}.pt'))\n",
    "        if fold == 0:\n",
    "            pred_mask = model(image)\n",
    "        else:\n",
    "            pred_mask += model(image)\n",
    "\n",
    "    # argmax 연산을 통해 확률이 가장 높은 클래스를 예측값으로 선택합니다.\n",
    "    pred_mask = torch.argmax(pred_mask, dim=1)\n",
    "\n",
    "    for i, a_pred_mask in enumerate(pred_mask):\n",
    "        # pred_mask를 PIL image로 변환합니다.\n",
    "        pred_mask_image = Image.fromarray(np.uint8(a_pred_mask.cpu().numpy()))\n",
    "\n",
    "        # 원본 이미지의 크기로 resize합니다.\n",
    "        pred_mask_image = pred_mask_image.resize(image_size[i], resample=Image.NEAREST)\n",
    "\n",
    "        filename_ = filename[i].replace('.jpg', '.png')\n",
    "\n",
    "\n",
    "        # 이미지를 저장합니다.\n",
    "        pred_mask_image.save(f'{pred_save_directory}/{filename_}')"
   ]
  },
  {
   "cell_type": "markdown",
   "metadata": {
    "id": "1_knW7eEB8fk"
   },
   "source": [
    "### 예측 결과물을 압축해서 제출합니다."
   ]
  },
  {
   "cell_type": "code",
   "execution_count": null,
   "metadata": {
    "id": "HdsMx39NB8fk"
   },
   "outputs": [],
   "source": [
    "import zipfile\n",
    "\n",
    "pred_files = glob(f'{pred_save_directory}/*.png')\n",
    "\n",
    "# 압축을 수행합니다.\n",
    "with zipfile.ZipFile('results/out-of-fold.zip', 'w') as zip:\n",
    "    for pred_file in pred_files:\n",
    "        zip.write(pred_file, os.path.basename(pred_file))"
   ]
  },
  {
   "cell_type": "code",
   "execution_count": null,
   "metadata": {
    "id": "utx7GNV3B8fk"
   },
   "outputs": [],
   "source": []
  },
  {
   "cell_type": "code",
   "execution_count": null,
   "metadata": {
    "id": "nnbR60TkB8fk"
   },
   "outputs": [],
   "source": []
  }
 ],
 "metadata": {
  "accelerator": "GPU",
  "colab": {
   "gpuType": "T4",
   "provenance": []
  },
  "kernelspec": {
   "display_name": "mk8574_3.10 [~/.conda/envs/mk8574_3.10/]",
   "language": "python",
   "name": "conda_mk8574_3.10"
  },
  "language_info": {
   "codemirror_mode": {
    "name": "ipython",
    "version": 3
   },
   "file_extension": ".py",
   "mimetype": "text/x-python",
   "name": "python",
   "nbconvert_exporter": "python",
   "pygments_lexer": "ipython3",
   "version": "3.10.13"
  },
  "widgets": {
   "application/vnd.jupyter.widget-state+json": {
    "047886d6f7304944b55ec6f8e72aec32": {
     "model_module": "@jupyter-widgets/controls",
     "model_module_version": "1.5.0",
     "model_name": "DescriptionStyleModel",
     "state": {
      "_model_module": "@jupyter-widgets/controls",
      "_model_module_version": "1.5.0",
      "_model_name": "DescriptionStyleModel",
      "_view_count": null,
      "_view_module": "@jupyter-widgets/base",
      "_view_module_version": "1.2.0",
      "_view_name": "StyleView",
      "description_width": ""
     }
    },
    "1cc966ec4d134389843f7c2cdffd3772": {
     "model_module": "@jupyter-widgets/controls",
     "model_module_version": "1.5.0",
     "model_name": "DescriptionStyleModel",
     "state": {
      "_model_module": "@jupyter-widgets/controls",
      "_model_module_version": "1.5.0",
      "_model_name": "DescriptionStyleModel",
      "_view_count": null,
      "_view_module": "@jupyter-widgets/base",
      "_view_module_version": "1.2.0",
      "_view_name": "StyleView",
      "description_width": ""
     }
    },
    "2829b5f6973349748d00156e19001f26": {
     "model_module": "@jupyter-widgets/base",
     "model_module_version": "1.2.0",
     "model_name": "LayoutModel",
     "state": {
      "_model_module": "@jupyter-widgets/base",
      "_model_module_version": "1.2.0",
      "_model_name": "LayoutModel",
      "_view_count": null,
      "_view_module": "@jupyter-widgets/base",
      "_view_module_version": "1.2.0",
      "_view_name": "LayoutView",
      "align_content": null,
      "align_items": null,
      "align_self": null,
      "border": null,
      "bottom": null,
      "display": null,
      "flex": null,
      "flex_flow": null,
      "grid_area": null,
      "grid_auto_columns": null,
      "grid_auto_flow": null,
      "grid_auto_rows": null,
      "grid_column": null,
      "grid_gap": null,
      "grid_row": null,
      "grid_template_areas": null,
      "grid_template_columns": null,
      "grid_template_rows": null,
      "height": null,
      "justify_content": null,
      "justify_items": null,
      "left": null,
      "margin": null,
      "max_height": null,
      "max_width": null,
      "min_height": null,
      "min_width": null,
      "object_fit": null,
      "object_position": null,
      "order": null,
      "overflow": null,
      "overflow_x": null,
      "overflow_y": null,
      "padding": null,
      "right": null,
      "top": null,
      "visibility": null,
      "width": null
     }
    },
    "2b6d98b66a294a7aa067c0416c4015c3": {
     "model_module": "@jupyter-widgets/base",
     "model_module_version": "1.2.0",
     "model_name": "LayoutModel",
     "state": {
      "_model_module": "@jupyter-widgets/base",
      "_model_module_version": "1.2.0",
      "_model_name": "LayoutModel",
      "_view_count": null,
      "_view_module": "@jupyter-widgets/base",
      "_view_module_version": "1.2.0",
      "_view_name": "LayoutView",
      "align_content": null,
      "align_items": null,
      "align_self": null,
      "border": null,
      "bottom": null,
      "display": null,
      "flex": null,
      "flex_flow": null,
      "grid_area": null,
      "grid_auto_columns": null,
      "grid_auto_flow": null,
      "grid_auto_rows": null,
      "grid_column": null,
      "grid_gap": null,
      "grid_row": null,
      "grid_template_areas": null,
      "grid_template_columns": null,
      "grid_template_rows": null,
      "height": null,
      "justify_content": null,
      "justify_items": null,
      "left": null,
      "margin": null,
      "max_height": null,
      "max_width": null,
      "min_height": null,
      "min_width": null,
      "object_fit": null,
      "object_position": null,
      "order": null,
      "overflow": null,
      "overflow_x": null,
      "overflow_y": null,
      "padding": null,
      "right": null,
      "top": null,
      "visibility": null,
      "width": null
     }
    },
    "399ded8642ae442cb6bfa92541d31836": {
     "model_module": "@jupyter-widgets/base",
     "model_module_version": "1.2.0",
     "model_name": "LayoutModel",
     "state": {
      "_model_module": "@jupyter-widgets/base",
      "_model_module_version": "1.2.0",
      "_model_name": "LayoutModel",
      "_view_count": null,
      "_view_module": "@jupyter-widgets/base",
      "_view_module_version": "1.2.0",
      "_view_name": "LayoutView",
      "align_content": null,
      "align_items": null,
      "align_self": null,
      "border": null,
      "bottom": null,
      "display": null,
      "flex": null,
      "flex_flow": null,
      "grid_area": null,
      "grid_auto_columns": null,
      "grid_auto_flow": null,
      "grid_auto_rows": null,
      "grid_column": null,
      "grid_gap": null,
      "grid_row": null,
      "grid_template_areas": null,
      "grid_template_columns": null,
      "grid_template_rows": null,
      "height": null,
      "justify_content": null,
      "justify_items": null,
      "left": null,
      "margin": null,
      "max_height": null,
      "max_width": null,
      "min_height": null,
      "min_width": null,
      "object_fit": null,
      "object_position": null,
      "order": null,
      "overflow": null,
      "overflow_x": null,
      "overflow_y": null,
      "padding": null,
      "right": null,
      "top": null,
      "visibility": null,
      "width": null
     }
    },
    "4b84f0cfb50442bd9600ceddd70cc5d5": {
     "model_module": "@jupyter-widgets/controls",
     "model_module_version": "1.5.0",
     "model_name": "VBoxModel",
     "state": {
      "_dom_classes": [],
      "_model_module": "@jupyter-widgets/controls",
      "_model_module_version": "1.5.0",
      "_model_name": "VBoxModel",
      "_view_count": null,
      "_view_module": "@jupyter-widgets/controls",
      "_view_module_version": "1.5.0",
      "_view_name": "VBoxView",
      "box_style": "",
      "children": [
       "IPY_MODEL_89f842c2572642daa66c60c5a9357b41",
       "IPY_MODEL_533cc399bbff4cde9c0538cefce97665"
      ],
      "layout": "IPY_MODEL_68d0432e6d3b43efb868ba7e0dd11279"
     }
    },
    "4f227fc22dd84130b6af77f33fc3e704": {
     "model_module": "@jupyter-widgets/controls",
     "model_module_version": "1.5.0",
     "model_name": "DescriptionStyleModel",
     "state": {
      "_model_module": "@jupyter-widgets/controls",
      "_model_module_version": "1.5.0",
      "_model_name": "DescriptionStyleModel",
      "_view_count": null,
      "_view_module": "@jupyter-widgets/base",
      "_view_module_version": "1.2.0",
      "_view_name": "StyleView",
      "description_width": ""
     }
    },
    "533cc399bbff4cde9c0538cefce97665": {
     "model_module": "@jupyter-widgets/controls",
     "model_module_version": "1.5.0",
     "model_name": "FloatProgressModel",
     "state": {
      "_dom_classes": [],
      "_model_module": "@jupyter-widgets/controls",
      "_model_module_version": "1.5.0",
      "_model_name": "FloatProgressModel",
      "_view_count": null,
      "_view_module": "@jupyter-widgets/controls",
      "_view_module_version": "1.5.0",
      "_view_name": "ProgressView",
      "bar_style": "",
      "description": "",
      "description_tooltip": null,
      "layout": "IPY_MODEL_2b6d98b66a294a7aa067c0416c4015c3",
      "max": 1,
      "min": 0,
      "orientation": "horizontal",
      "style": "IPY_MODEL_ed2bc12299314b59b6b4122f65e6dbc3",
      "value": 1
     }
    },
    "68d0432e6d3b43efb868ba7e0dd11279": {
     "model_module": "@jupyter-widgets/base",
     "model_module_version": "1.2.0",
     "model_name": "LayoutModel",
     "state": {
      "_model_module": "@jupyter-widgets/base",
      "_model_module_version": "1.2.0",
      "_model_name": "LayoutModel",
      "_view_count": null,
      "_view_module": "@jupyter-widgets/base",
      "_view_module_version": "1.2.0",
      "_view_name": "LayoutView",
      "align_content": null,
      "align_items": null,
      "align_self": null,
      "border": null,
      "bottom": null,
      "display": null,
      "flex": null,
      "flex_flow": null,
      "grid_area": null,
      "grid_auto_columns": null,
      "grid_auto_flow": null,
      "grid_auto_rows": null,
      "grid_column": null,
      "grid_gap": null,
      "grid_row": null,
      "grid_template_areas": null,
      "grid_template_columns": null,
      "grid_template_rows": null,
      "height": null,
      "justify_content": null,
      "justify_items": null,
      "left": null,
      "margin": null,
      "max_height": null,
      "max_width": null,
      "min_height": null,
      "min_width": null,
      "object_fit": null,
      "object_position": null,
      "order": null,
      "overflow": null,
      "overflow_x": null,
      "overflow_y": null,
      "padding": null,
      "right": null,
      "top": null,
      "visibility": null,
      "width": null
     }
    },
    "734ac4b7b8834c94ba5dbceae8bd43cc": {
     "model_module": "@jupyter-widgets/base",
     "model_module_version": "1.2.0",
     "model_name": "LayoutModel",
     "state": {
      "_model_module": "@jupyter-widgets/base",
      "_model_module_version": "1.2.0",
      "_model_name": "LayoutModel",
      "_view_count": null,
      "_view_module": "@jupyter-widgets/base",
      "_view_module_version": "1.2.0",
      "_view_name": "LayoutView",
      "align_content": null,
      "align_items": null,
      "align_self": null,
      "border": null,
      "bottom": null,
      "display": null,
      "flex": null,
      "flex_flow": null,
      "grid_area": null,
      "grid_auto_columns": null,
      "grid_auto_flow": null,
      "grid_auto_rows": null,
      "grid_column": null,
      "grid_gap": null,
      "grid_row": null,
      "grid_template_areas": null,
      "grid_template_columns": null,
      "grid_template_rows": null,
      "height": null,
      "justify_content": null,
      "justify_items": null,
      "left": null,
      "margin": null,
      "max_height": null,
      "max_width": null,
      "min_height": null,
      "min_width": null,
      "object_fit": null,
      "object_position": null,
      "order": null,
      "overflow": null,
      "overflow_x": null,
      "overflow_y": null,
      "padding": null,
      "right": null,
      "top": null,
      "visibility": null,
      "width": null
     }
    },
    "7e1a5a5d7da64ac79cab57408654b0be": {
     "model_module": "@jupyter-widgets/controls",
     "model_module_version": "1.5.0",
     "model_name": "FloatProgressModel",
     "state": {
      "_dom_classes": [],
      "_model_module": "@jupyter-widgets/controls",
      "_model_module_version": "1.5.0",
      "_model_name": "FloatProgressModel",
      "_view_count": null,
      "_view_module": "@jupyter-widgets/controls",
      "_view_module_version": "1.5.0",
      "_view_name": "ProgressView",
      "bar_style": "",
      "description": "",
      "description_tooltip": null,
      "layout": "IPY_MODEL_ef0ef86f85ea461c921b8b9f1a1c9bad",
      "max": 1,
      "min": 0,
      "orientation": "horizontal",
      "style": "IPY_MODEL_8093fc1a869542459b554c9de5e3c1b8",
      "value": 1
     }
    },
    "807eb8e440ec4cd8a02bbf772aa54605": {
     "model_module": "@jupyter-widgets/controls",
     "model_module_version": "1.5.0",
     "model_name": "LabelModel",
     "state": {
      "_dom_classes": [],
      "_model_module": "@jupyter-widgets/controls",
      "_model_module_version": "1.5.0",
      "_model_name": "LabelModel",
      "_view_count": null,
      "_view_module": "@jupyter-widgets/controls",
      "_view_module_version": "1.5.0",
      "_view_name": "LabelView",
      "description": "",
      "description_tooltip": null,
      "layout": "IPY_MODEL_734ac4b7b8834c94ba5dbceae8bd43cc",
      "placeholder": "​",
      "style": "IPY_MODEL_1cc966ec4d134389843f7c2cdffd3772",
      "value": "Waiting for wandb.init()...\r"
     }
    },
    "8093fc1a869542459b554c9de5e3c1b8": {
     "model_module": "@jupyter-widgets/controls",
     "model_module_version": "1.5.0",
     "model_name": "ProgressStyleModel",
     "state": {
      "_model_module": "@jupyter-widgets/controls",
      "_model_module_version": "1.5.0",
      "_model_name": "ProgressStyleModel",
      "_view_count": null,
      "_view_module": "@jupyter-widgets/base",
      "_view_module_version": "1.2.0",
      "_view_name": "StyleView",
      "bar_color": null,
      "description_width": ""
     }
    },
    "83807f458c4b48bc92597b95fed3e7ec": {
     "model_module": "@jupyter-widgets/controls",
     "model_module_version": "1.5.0",
     "model_name": "VBoxModel",
     "state": {
      "_dom_classes": [],
      "_model_module": "@jupyter-widgets/controls",
      "_model_module_version": "1.5.0",
      "_model_name": "VBoxModel",
      "_view_count": null,
      "_view_module": "@jupyter-widgets/controls",
      "_view_module_version": "1.5.0",
      "_view_name": "VBoxView",
      "box_style": "",
      "children": [
       "IPY_MODEL_fa2b9268e5f34ce680c33f9dce445b61",
       "IPY_MODEL_a6ba83ee25e34127a407369f14e06ff1"
      ],
      "layout": "IPY_MODEL_d9262b27ece94935b5305418000be3f2"
     }
    },
    "88c4449e81174aada72abbbd035715d7": {
     "model_module": "@jupyter-widgets/controls",
     "model_module_version": "1.5.0",
     "model_name": "VBoxModel",
     "state": {
      "_dom_classes": [],
      "_model_module": "@jupyter-widgets/controls",
      "_model_module_version": "1.5.0",
      "_model_name": "VBoxModel",
      "_view_count": null,
      "_view_module": "@jupyter-widgets/controls",
      "_view_module_version": "1.5.0",
      "_view_name": "VBoxView",
      "box_style": "",
      "children": [
       "IPY_MODEL_807eb8e440ec4cd8a02bbf772aa54605",
       "IPY_MODEL_7e1a5a5d7da64ac79cab57408654b0be"
      ],
      "layout": "IPY_MODEL_ac99115e7fa442bdabe5e3564195f8f3"
     }
    },
    "89f842c2572642daa66c60c5a9357b41": {
     "model_module": "@jupyter-widgets/controls",
     "model_module_version": "1.5.0",
     "model_name": "LabelModel",
     "state": {
      "_dom_classes": [],
      "_model_module": "@jupyter-widgets/controls",
      "_model_module_version": "1.5.0",
      "_model_name": "LabelModel",
      "_view_count": null,
      "_view_module": "@jupyter-widgets/controls",
      "_view_module_version": "1.5.0",
      "_view_name": "LabelView",
      "description": "",
      "description_tooltip": null,
      "layout": "IPY_MODEL_946674b1cb92434aba26bc738a4d2a78",
      "placeholder": "​",
      "style": "IPY_MODEL_047886d6f7304944b55ec6f8e72aec32",
      "value": "0.011 MB of 0.011 MB uploaded\r"
     }
    },
    "8cc6df51e0f14d36a196b9c31909e5c4": {
     "model_module": "@jupyter-widgets/controls",
     "model_module_version": "1.5.0",
     "model_name": "ProgressStyleModel",
     "state": {
      "_model_module": "@jupyter-widgets/controls",
      "_model_module_version": "1.5.0",
      "_model_name": "ProgressStyleModel",
      "_view_count": null,
      "_view_module": "@jupyter-widgets/base",
      "_view_module_version": "1.2.0",
      "_view_name": "StyleView",
      "bar_color": null,
      "description_width": ""
     }
    },
    "946674b1cb92434aba26bc738a4d2a78": {
     "model_module": "@jupyter-widgets/base",
     "model_module_version": "1.2.0",
     "model_name": "LayoutModel",
     "state": {
      "_model_module": "@jupyter-widgets/base",
      "_model_module_version": "1.2.0",
      "_model_name": "LayoutModel",
      "_view_count": null,
      "_view_module": "@jupyter-widgets/base",
      "_view_module_version": "1.2.0",
      "_view_name": "LayoutView",
      "align_content": null,
      "align_items": null,
      "align_self": null,
      "border": null,
      "bottom": null,
      "display": null,
      "flex": null,
      "flex_flow": null,
      "grid_area": null,
      "grid_auto_columns": null,
      "grid_auto_flow": null,
      "grid_auto_rows": null,
      "grid_column": null,
      "grid_gap": null,
      "grid_row": null,
      "grid_template_areas": null,
      "grid_template_columns": null,
      "grid_template_rows": null,
      "height": null,
      "justify_content": null,
      "justify_items": null,
      "left": null,
      "margin": null,
      "max_height": null,
      "max_width": null,
      "min_height": null,
      "min_width": null,
      "object_fit": null,
      "object_position": null,
      "order": null,
      "overflow": null,
      "overflow_x": null,
      "overflow_y": null,
      "padding": null,
      "right": null,
      "top": null,
      "visibility": null,
      "width": null
     }
    },
    "a6ba83ee25e34127a407369f14e06ff1": {
     "model_module": "@jupyter-widgets/controls",
     "model_module_version": "1.5.0",
     "model_name": "FloatProgressModel",
     "state": {
      "_dom_classes": [],
      "_model_module": "@jupyter-widgets/controls",
      "_model_module_version": "1.5.0",
      "_model_name": "FloatProgressModel",
      "_view_count": null,
      "_view_module": "@jupyter-widgets/controls",
      "_view_module_version": "1.5.0",
      "_view_name": "ProgressView",
      "bar_style": "",
      "description": "",
      "description_tooltip": null,
      "layout": "IPY_MODEL_399ded8642ae442cb6bfa92541d31836",
      "max": 1,
      "min": 0,
      "orientation": "horizontal",
      "style": "IPY_MODEL_8cc6df51e0f14d36a196b9c31909e5c4",
      "value": 1
     }
    },
    "ac99115e7fa442bdabe5e3564195f8f3": {
     "model_module": "@jupyter-widgets/base",
     "model_module_version": "1.2.0",
     "model_name": "LayoutModel",
     "state": {
      "_model_module": "@jupyter-widgets/base",
      "_model_module_version": "1.2.0",
      "_model_name": "LayoutModel",
      "_view_count": null,
      "_view_module": "@jupyter-widgets/base",
      "_view_module_version": "1.2.0",
      "_view_name": "LayoutView",
      "align_content": null,
      "align_items": null,
      "align_self": null,
      "border": null,
      "bottom": null,
      "display": null,
      "flex": null,
      "flex_flow": null,
      "grid_area": null,
      "grid_auto_columns": null,
      "grid_auto_flow": null,
      "grid_auto_rows": null,
      "grid_column": null,
      "grid_gap": null,
      "grid_row": null,
      "grid_template_areas": null,
      "grid_template_columns": null,
      "grid_template_rows": null,
      "height": null,
      "justify_content": null,
      "justify_items": null,
      "left": null,
      "margin": null,
      "max_height": null,
      "max_width": null,
      "min_height": null,
      "min_width": null,
      "object_fit": null,
      "object_position": null,
      "order": null,
      "overflow": null,
      "overflow_x": null,
      "overflow_y": null,
      "padding": null,
      "right": null,
      "top": null,
      "visibility": null,
      "width": null
     }
    },
    "d9262b27ece94935b5305418000be3f2": {
     "model_module": "@jupyter-widgets/base",
     "model_module_version": "1.2.0",
     "model_name": "LayoutModel",
     "state": {
      "_model_module": "@jupyter-widgets/base",
      "_model_module_version": "1.2.0",
      "_model_name": "LayoutModel",
      "_view_count": null,
      "_view_module": "@jupyter-widgets/base",
      "_view_module_version": "1.2.0",
      "_view_name": "LayoutView",
      "align_content": null,
      "align_items": null,
      "align_self": null,
      "border": null,
      "bottom": null,
      "display": null,
      "flex": null,
      "flex_flow": null,
      "grid_area": null,
      "grid_auto_columns": null,
      "grid_auto_flow": null,
      "grid_auto_rows": null,
      "grid_column": null,
      "grid_gap": null,
      "grid_row": null,
      "grid_template_areas": null,
      "grid_template_columns": null,
      "grid_template_rows": null,
      "height": null,
      "justify_content": null,
      "justify_items": null,
      "left": null,
      "margin": null,
      "max_height": null,
      "max_width": null,
      "min_height": null,
      "min_width": null,
      "object_fit": null,
      "object_position": null,
      "order": null,
      "overflow": null,
      "overflow_x": null,
      "overflow_y": null,
      "padding": null,
      "right": null,
      "top": null,
      "visibility": null,
      "width": null
     }
    },
    "ed2bc12299314b59b6b4122f65e6dbc3": {
     "model_module": "@jupyter-widgets/controls",
     "model_module_version": "1.5.0",
     "model_name": "ProgressStyleModel",
     "state": {
      "_model_module": "@jupyter-widgets/controls",
      "_model_module_version": "1.5.0",
      "_model_name": "ProgressStyleModel",
      "_view_count": null,
      "_view_module": "@jupyter-widgets/base",
      "_view_module_version": "1.2.0",
      "_view_name": "StyleView",
      "bar_color": null,
      "description_width": ""
     }
    },
    "ef0ef86f85ea461c921b8b9f1a1c9bad": {
     "model_module": "@jupyter-widgets/base",
     "model_module_version": "1.2.0",
     "model_name": "LayoutModel",
     "state": {
      "_model_module": "@jupyter-widgets/base",
      "_model_module_version": "1.2.0",
      "_model_name": "LayoutModel",
      "_view_count": null,
      "_view_module": "@jupyter-widgets/base",
      "_view_module_version": "1.2.0",
      "_view_name": "LayoutView",
      "align_content": null,
      "align_items": null,
      "align_self": null,
      "border": null,
      "bottom": null,
      "display": null,
      "flex": null,
      "flex_flow": null,
      "grid_area": null,
      "grid_auto_columns": null,
      "grid_auto_flow": null,
      "grid_auto_rows": null,
      "grid_column": null,
      "grid_gap": null,
      "grid_row": null,
      "grid_template_areas": null,
      "grid_template_columns": null,
      "grid_template_rows": null,
      "height": null,
      "justify_content": null,
      "justify_items": null,
      "left": null,
      "margin": null,
      "max_height": null,
      "max_width": null,
      "min_height": null,
      "min_width": null,
      "object_fit": null,
      "object_position": null,
      "order": null,
      "overflow": null,
      "overflow_x": null,
      "overflow_y": null,
      "padding": null,
      "right": null,
      "top": null,
      "visibility": null,
      "width": null
     }
    },
    "fa2b9268e5f34ce680c33f9dce445b61": {
     "model_module": "@jupyter-widgets/controls",
     "model_module_version": "1.5.0",
     "model_name": "LabelModel",
     "state": {
      "_dom_classes": [],
      "_model_module": "@jupyter-widgets/controls",
      "_model_module_version": "1.5.0",
      "_model_name": "LabelModel",
      "_view_count": null,
      "_view_module": "@jupyter-widgets/controls",
      "_view_module_version": "1.5.0",
      "_view_name": "LabelView",
      "description": "",
      "description_tooltip": null,
      "layout": "IPY_MODEL_2829b5f6973349748d00156e19001f26",
      "placeholder": "​",
      "style": "IPY_MODEL_4f227fc22dd84130b6af77f33fc3e704",
      "value": "0.011 MB of 0.011 MB uploaded\r"
     }
    }
   }
  }
 },
 "nbformat": 4,
 "nbformat_minor": 4
}
