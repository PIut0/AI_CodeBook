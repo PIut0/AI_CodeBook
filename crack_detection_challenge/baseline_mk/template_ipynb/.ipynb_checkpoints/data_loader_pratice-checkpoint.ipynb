{
 "cells": [
  {
   "cell_type": "markdown",
   "metadata": {},
   "source": [
    "# Pytorch Dataset & DataLoader Class 연습 코드\n",
    "Pytorch 코드에서 데이터 처리를 담당하는 두 가지 클래스를 이해해보기 위한 노트북 코드입니다. 아래 두 가지 항목을 이해하는 것을 목적으로 합니다.\n",
    "- Pytorch Dataset Class의 역할을 이해합니다.\n",
    "- DataLoader Class의 역할과 주요 파라미터를 이해합니다."
   ]
  },
  {
   "cell_type": "code",
   "execution_count": null,
   "metadata": {},
   "outputs": [],
   "source": [
    "! pip install seaborn"
   ]
  },
  {
   "cell_type": "code",
   "execution_count": 2,
   "metadata": {},
   "outputs": [],
   "source": [
    "# 필요한 라이브러리를 임포트합니다.\n",
    "import os\n",
    "import pandas as pd\n",
    "import numpy as np\n",
    "from glob import glob \n",
    "import matplotlib.pyplot as plt\n",
    "import seaborn as sns\n",
    "\n",
    "# 중요!\n",
    "from torch.utils.data import Dataset\n",
    "from torch.utils.data import DataLoader"
   ]
  },
  {
   "cell_type": "code",
   "execution_count": 48,
   "metadata": {},
   "outputs": [
    {
     "name": "stdout",
     "output_type": "stream",
     "text": [
      "input : \n",
      " [[0 1]\n",
      " [2 3]\n",
      " [4 5]\n",
      " [6 7]\n",
      " [8 9]] \n",
      "\n",
      "labels : \n",
      " [1 0 1 1 0] \n",
      "\n",
      "데이터 수량 : 100 \n",
      "\n"
     ]
    }
   ],
   "source": [
    "# 샘플 데이터 100개를 생성합니다.\n",
    "total_sample = 100\n",
    "X = np.arange(total_sample*2).reshape((total_sample, 2))\n",
    "# 1과 0을 랜덤한 비율로 생성\n",
    "zero_proportion = 0.3\n",
    "y = np.random.choice([0, 1], size=total_sample, p=[zero_proportion, 1-zero_proportion])\n",
    "\n",
    "print(f'input : \\n {X[:5]} \\n')\n",
    "print(f'labels : \\n {y[:5]} \\n')\n",
    "print(f'데이터 수량 : {len(X)} \\n')"
   ]
  },
  {
   "cell_type": "markdown",
   "metadata": {},
   "source": [
    "## 커스텀 데이터셋 클래스를 정의합니다."
   ]
  },
  {
   "cell_type": "code",
   "execution_count": 49,
   "metadata": {},
   "outputs": [],
   "source": [
    "# 커스텀 데이터셋 클래스를 정의합니다.\n",
    "class CustomDataset(Dataset):\n",
    "    def __init__(self, X, y):\n",
    "        #필요한 변수들을 선언 및 저장합니다.\n",
    "        self.X = X \n",
    "        self.y = y\n",
    "        \n",
    "    def __getitem__(self, index):\n",
    "        # index에 해당하는 데이터를 X와 y로부터 가져옵니다.\n",
    "        X = self.X[index]\n",
    "        y = self.y[index]\n",
    "        return X, y\n",
    "    \n",
    "    def __len__(self):\n",
    "        # 데이터 샘플의 개수 리턴합니다.\n",
    "        return len(self.X)"
   ]
  },
  {
   "cell_type": "code",
   "execution_count": 50,
   "metadata": {},
   "outputs": [],
   "source": [
    "# 커스텀 데이터셋 클래스를 활용해 데이터셋 인스턴스를 생성합니다.\n",
    "dataset = CustomDataset(X, y)"
   ]
  },
  {
   "cell_type": "code",
   "execution_count": 51,
   "metadata": {},
   "outputs": [
    {
     "name": "stdout",
     "output_type": "stream",
     "text": [
      "100\n"
     ]
    }
   ],
   "source": [
    "# 아래와 같이 데이터 샘플의 개수를 확인할 수 있습니다.\n",
    "print(len(dataset))"
   ]
  },
  {
   "cell_type": "code",
   "execution_count": 52,
   "metadata": {},
   "outputs": [
    {
     "data": {
      "text/plain": [
       "(array([198, 199]), 0)"
      ]
     },
     "execution_count": 52,
     "metadata": {},
     "output_type": "execute_result"
    }
   ],
   "source": [
    "# 아래와 같이 데이터 샘플 중 일부를 불러올 수 있습니다.\n",
    "dataset[99]"
   ]
  },
  {
   "cell_type": "markdown",
   "metadata": {},
   "source": [
    "## 데이터 로더를 생성합니다."
   ]
  },
  {
   "cell_type": "code",
   "execution_count": 56,
   "metadata": {},
   "outputs": [],
   "source": [
    "# 데이터 로더를 생성합니다.\n",
    "dataloader = DataLoader(dataset, batch_size=2, shuffle=True)"
   ]
  },
  {
   "cell_type": "code",
   "execution_count": 58,
   "metadata": {},
   "outputs": [
    {
     "name": "stderr",
     "output_type": "stream",
     "text": [
      "  4%|▍         | 2/50 [00:00<00:00, 508.18it/s]"
     ]
    },
    {
     "name": "stdout",
     "output_type": "stream",
     "text": [
      "batch_idx : 0\n",
      "X : tensor([[194, 195],\n",
      "        [132, 133]])\n",
      "y : tensor([1, 0])\n",
      "batch_idx : 1\n",
      "X : tensor([[118, 119],\n",
      "        [ 98,  99]])\n",
      "y : tensor([1, 1])\n",
      "batch_idx : 2\n",
      "X : tensor([[ 6,  7],\n",
      "        [66, 67]])\n",
      "y : tensor([1, 1])\n"
     ]
    },
    {
     "name": "stderr",
     "output_type": "stream",
     "text": [
      "\n"
     ]
    }
   ],
   "source": [
    "from tqdm import tqdm\n",
    "\n",
    "for batch_idx, (inputs, labels) in enumerate(tqdm(dataloader)):\n",
    "    print(f'batch_idx : {batch_idx}')\n",
    "    print(f'X : {inputs}')\n",
    "    print(f'y : {labels}')\n",
    "    if batch_idx == 2:\n",
    "        break"
   ]
  }
 ],
 "metadata": {
  "kernelspec": {
   "display_name": "Python 3 (ipykernel)",
   "language": "python",
   "name": "python3"
  },
  "language_info": {
   "codemirror_mode": {
    "name": "ipython",
    "version": 3
   },
   "file_extension": ".py",
   "mimetype": "text/x-python",
   "name": "python",
   "nbconvert_exporter": "python",
   "pygments_lexer": "ipython3",
   "version": "3.8.5"
  }
 },
 "nbformat": 4,
 "nbformat_minor": 4
}
