{
 "cells": [
  {
   "cell_type": "code",
   "execution_count": 7,
   "id": "71f659e7-248b-450f-b9dd-0e3c86a8562e",
   "metadata": {},
   "outputs": [
    {
     "data": {
      "text/plain": [
       "1101"
      ]
     },
     "execution_count": 7,
     "metadata": {},
     "output_type": "execute_result"
    }
   ],
   "source": [
    "import os\n",
    "len(os.listdir(\"/scratch/network/mk8574/change_detection_challenge/swapdata/train/x\")) #877"
   ]
  },
  {
   "cell_type": "code",
   "execution_count": 5,
   "id": "bc610461-718a-4096-a70f-7a4eee7a767b",
   "metadata": {},
   "outputs": [
    {
     "name": "stdout",
     "output_type": "stream",
     "text": [
      "429\n"
     ]
    }
   ],
   "source": [
    "import pandas as pd\n",
    "train_csv= pd.read_csv('/scratch/network/mk8574/change_detection_challenge/data/train.csv')\n",
    "lst = []\n",
    "for i in range(12000):\n",
    "    if train_csv[\"id\"][i] not in os.listdir(\"/scratch/network/mk8574/change_detection_challenge/swapdata/train/x\") and ((train_csv[\"class1\"][i]!=0 and train_csv[\"class2\"][i]==0) or(train_csv[\"class1\"][i]==0 and train_csv[\"class2\"][i]!=0)) and train_csv[\"class3\"][i]==0:\n",
    "        lst.append(train_csv[\"id\"][i])\n",
    "print(len(lst))"
   ]
  },
  {
   "cell_type": "code",
   "execution_count": 3,
   "id": "98552586-6ea6-4ea9-a85f-f3e59d5000ff",
   "metadata": {},
   "outputs": [
    {
     "name": "stdout",
     "output_type": "stream",
     "text": [
      "[\n"
     ]
    }
   ],
   "source": [
    "f  = open(\"/scratch/network/mk8574/change_detection_challenge/baseline_youhan/results/train/20231118_071639/valids\",\"r\")\n",
    "val_lst = f.readline()\n",
    "print(val_lst[0])"
   ]
  },
  {
   "cell_type": "code",
   "execution_count": 4,
   "id": "03bdd401-0768-4705-8afd-2d34abfaa4b8",
   "metadata": {},
   "outputs": [
    {
     "name": "stdout",
     "output_type": "stream",
     "text": [
      "../data/train/x/2017_EPG_2LB_000823.png\n"
     ]
    }
   ],
   "source": [
    "import ast\n",
    "val_lst = ast.literal_eval(val_lst)\n",
    "print(val_lst[0])"
   ]
  },
  {
   "cell_type": "code",
   "execution_count": 49,
   "id": "31c96c42-f60f-4ff0-9265-24341f6efd66",
   "metadata": {},
   "outputs": [
    {
     "name": "stderr",
     "output_type": "stream",
     "text": [
      "/tmp/ipykernel_992066/1814041015.py:8: FutureWarning: Calling int on a single element Series is deprecated and will raise a TypeError in the future. Use int(ser.iloc[0]) instead\n",
      "  if(int(val_df[\"class1\"])):a[0]+=1\n",
      "/tmp/ipykernel_992066/1814041015.py:9: FutureWarning: Calling int on a single element Series is deprecated and will raise a TypeError in the future. Use int(ser.iloc[0]) instead\n",
      "  if(int(val_df[\"class2\"])):a[1]+=1\n",
      "/tmp/ipykernel_992066/1814041015.py:10: FutureWarning: Calling int on a single element Series is deprecated and will raise a TypeError in the future. Use int(ser.iloc[0]) instead\n",
      "  if(int(val_df[\"class3\"])) :a[2] +=1\n"
     ]
    },
    {
     "name": "stdout",
     "output_type": "stream",
     "text": [
      "[307, 156, 2129]\n",
      "[11.84, 6.02, 82.14]\n"
     ]
    }
   ],
   "source": [
    "import pandas as pd\n",
    "a = [0,0,0]\n",
    "train_csv= pd.read_csv('/scratch/network/mk8574/change_detection_challenge/data/train.csv')\n",
    "\n",
    "for i in val_lst:\n",
    "    val_df = train_csv[train_csv[\"id\"]==i[16:]]\n",
    "   \n",
    "    if(int(val_df[\"class1\"])):a[0]+=1\n",
    "    if(int(val_df[\"class2\"])):a[1]+=1\n",
    "    if(int(val_df[\"class3\"])) :a[2] +=1\n",
    "print(a)\n",
    "print(list(map(lambda x:round(x/sum(a)*100,2),a)))"
   ]
  },
  {
   "cell_type": "code",
   "execution_count": 22,
   "id": "38307f56-ce52-40e4-a3da-db44ec5fbdec",
   "metadata": {},
   "outputs": [
    {
     "name": "stdout",
     "output_type": "stream",
     "text": [
      "[1935   NaN\n",
      "Name: class1, dtype: float64, 0, 0]\n"
     ]
    }
   ],
   "source": [
    "print(a)"
   ]
  },
  {
   "cell_type": "code",
   "execution_count": 35,
   "id": "17e02aee-f06b-45e2-80d8-f81f5bc499a3",
   "metadata": {},
   "outputs": [
    {
     "name": "stdout",
     "output_type": "stream",
     "text": [
      "9600\n"
     ]
    }
   ],
   "source": [
    "print(16*600)"
   ]
  },
  {
   "cell_type": "code",
   "execution_count": 48,
   "id": "ad00044f-e4f3-4882-94a5-dfc8fc296f35",
   "metadata": {},
   "outputs": [
    {
     "name": "stdout",
     "output_type": "stream",
     "text": [
      "/scratch/network/mk8574/change_detection_challenge/swapdata/train\n",
      "/scratch/network/mk8574/change_detection_challenge/data/train\n",
      "9600\n",
      "/scratch/network/mk8574/change_detection_challenge/swapdata/train/x/*.png\n",
      "/scratch/network/mk8574/change_detection_challenge/data/train/x/*.png\n",
      "1235\n"
     ]
    }
   ],
   "source": [
    "\"\"\"Train\n",
    "\"\"\"\n",
    "from datetime import datetime\n",
    "from time import time\n",
    "import numpy as np\n",
    "import shutil, random, os, sys, torch\n",
    "from glob import glob\n",
    "from torch.utils.data import DataLoader, ConcatDataset\n",
    "from sklearn.model_selection import train_test_split\n",
    "\n",
    "prj_dir = os.path.dirname(\"/scratch/network/mk8574/change_detection_challenge/baseline_dy/\")\n",
    "sys.path.append(prj_dir)\n",
    "\n",
    "#checkpoint_path = 'results/train/20231117_214934/model.pt'\n",
    "checkpoint_path = None\n",
    "\n",
    "from modules.utils import load_yaml, get_logger\n",
    "from modules.metrics import get_metric_function\n",
    "from modules.earlystoppers import EarlyStopper\n",
    "from modules.losses import get_loss_function\n",
    "from modules.optimizers import get_optimizer\n",
    "from modules.schedulers import get_scheduler\n",
    "from modules.scalers import get_image_scaler\n",
    "from modules.datasets import SegDataset\n",
    "from modules.recorders import Recorder\n",
    "from modules.trainer import Trainer\n",
    "from models.utils import get_model\n",
    "\n",
    "if __name__ == '__main__':\n",
    "    \n",
    "    # Load config\n",
    "    config_path = os.path.join(prj_dir, 'config', 'train.yaml')\n",
    "    config = load_yaml(config_path)\n",
    "    \n",
    "    # Set train serial: ex) 20211004\n",
    "    train_serial = datetime.now().strftime(\"%Y%m%d_%H%M%S\")\n",
    "    train_serial = 'debug' if config['debug'] else train_serial\n",
    "\n",
    "    # Set random seed, deterministic\n",
    "    torch.cuda.manual_seed(config['seed'])\n",
    "    torch.manual_seed(config['seed'])\n",
    "    np.random.seed(config['seed'])\n",
    "    random.seed(config['seed'])\n",
    "    torch.backends.cudnn.deterministic = True\n",
    "    torch.backends.cudnn.benchmark = False\n",
    "\n",
    "    # Set device(GPU/CPU)\n",
    "    os.environ['CUDA_VISIBLE_DEVICES'] = str(config['gpu_num'])\n",
    "    device = torch.device('cuda' if torch.cuda.is_available() else 'cpu')\n",
    "\n",
    "    # Create train result directory and set logger\n",
    "    train_result_dir = os.path.join(prj_dir, 'results', 'train', train_serial)\n",
    "    os.makedirs(train_result_dir, exist_ok=True)\n",
    "\n",
    "    # Set logger\n",
    "    logging_level = 'debug' if config['verbose'] else 'info'\n",
    "    logger = get_logger(name='train',\n",
    "                        file_path=os.path.join(train_result_dir, 'train.log'),\n",
    "                        level=logging_level)\n",
    "\n",
    "\n",
    "    # Set data directory\n",
    "    train_dirs = os.path.join('/scratch/network/mk8574/change_detection_challenge/data', 'train')\n",
    "\n",
    "    # Load data and create dataset for train \n",
    "    # Load image scaler\n",
    "    train_img_paths = glob(os.path.join(train_dirs, 'x', '*.png'))\n",
    "    train_img_paths, val_img_paths = train_test_split(train_img_paths, test_size=config['val_size'], random_state=config['seed'], shuffle=True)\n",
    "\n",
    "    train_dataset = SegDataset(paths=train_img_paths,\n",
    "                            input_size=[config['input_width'], config['input_height']],\n",
    "                            scaler=get_image_scaler(config['scaler']),\n",
    "                            logger=logger)\n",
    "    \n",
    "    #swapped img \n",
    "    train_dirs_swap = os.path.join('/scratch/network/mk8574/change_detection_challenge/swapdata', 'train')\n",
    "    print(train_dirs_swap)\n",
    "    print(train_dirs)\n",
    "    print(len(train_dataset))\n",
    "    train_img_paths_swap = glob(os.path.join(train_dirs_swap, 'x', '*.png'))\n",
    "    print(os.path.join(train_dirs_swap, 'x', '*.png'))\n",
    "    print(os.path.join(train_dirs, 'x', '*.png'))\n",
    "    train_dataset_swap = SegDataset(paths=train_img_paths_swap,\n",
    "                            input_size=[config['input_width'], config['input_height']],\n",
    "                            scaler=get_image_scaler(config['scaler']),\n",
    "                            logger=logger)\n",
    "    print(len(train_dataset_swap))\n",
    "    train_dataset = ConcatDataset([train_dataset, train_dataset_swap])"
   ]
  },
  {
   "cell_type": "code",
   "execution_count": null,
   "id": "3db63279-d2af-4e73-8bc6-bfc54d565b92",
   "metadata": {},
   "outputs": [],
   "source": []
  }
 ],
 "metadata": {
  "kernelspec": {
   "display_name": "mk8574_3.10 [~/.conda/envs/mk8574_3.10/]",
   "language": "python",
   "name": "conda_mk8574_3.10"
  },
  "language_info": {
   "codemirror_mode": {
    "name": "ipython",
    "version": 3
   },
   "file_extension": ".py",
   "mimetype": "text/x-python",
   "name": "python",
   "nbconvert_exporter": "python",
   "pygments_lexer": "ipython3",
   "version": "3.10.13"
  }
 },
 "nbformat": 4,
 "nbformat_minor": 5
}
