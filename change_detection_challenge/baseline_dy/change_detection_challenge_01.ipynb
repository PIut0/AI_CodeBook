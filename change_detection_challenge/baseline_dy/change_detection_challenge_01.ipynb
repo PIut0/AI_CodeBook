{
 "cells": [
  {
   "cell_type": "code",
   "execution_count": 2,
   "id": "76897e14-4afe-4219-95db-2eb94488b3a4",
   "metadata": {},
   "outputs": [
    {
     "name": "stdout",
     "output_type": "stream",
     "text": [
      "Defaulting to user installation because normal site-packages is not writeable\n",
      "\u001b[33mWARNING: Retrying (Retry(total=4, connect=None, read=None, redirect=None, status=None)) after connection broken by 'NewConnectionError('<pip._vendor.urllib3.connection.HTTPSConnection object at 0x7f672faf7e80>: Failed to establish a new connection: [Errno -2] Name or service not known')': /simple/pickle5/\u001b[0m\n",
      "\u001b[33mWARNING: Retrying (Retry(total=3, connect=None, read=None, redirect=None, status=None)) after connection broken by 'NewConnectionError('<pip._vendor.urllib3.connection.HTTPSConnection object at 0x7f672fb1a0d0>: Failed to establish a new connection: [Errno -2] Name or service not known')': /simple/pickle5/\u001b[0m\n",
      "\u001b[33mWARNING: Retrying (Retry(total=2, connect=None, read=None, redirect=None, status=None)) after connection broken by 'NewConnectionError('<pip._vendor.urllib3.connection.HTTPSConnection object at 0x7f672fb1a280>: Failed to establish a new connection: [Errno -2] Name or service not known')': /simple/pickle5/\u001b[0m\n",
      "\u001b[33mWARNING: Retrying (Retry(total=1, connect=None, read=None, redirect=None, status=None)) after connection broken by 'NewConnectionError('<pip._vendor.urllib3.connection.HTTPSConnection object at 0x7f672faf7310>: Failed to establish a new connection: [Errno -2] Name or service not known')': /simple/pickle5/\u001b[0m\n",
      "\u001b[33mWARNING: Retrying (Retry(total=0, connect=None, read=None, redirect=None, status=None)) after connection broken by 'NewConnectionError('<pip._vendor.urllib3.connection.HTTPSConnection object at 0x7f672faf7280>: Failed to establish a new connection: [Errno -2] Name or service not known')': /simple/pickle5/\u001b[0m\n",
      "\u001b[31mERROR: Could not find a version that satisfies the requirement pickle5 (from versions: none)\u001b[0m\n",
      "\u001b[31mERROR: No matching distribution found for pickle5\u001b[0m\n",
      "Defaulting to user installation because normal site-packages is not writeable\n",
      "\u001b[33mWARNING: Retrying (Retry(total=4, connect=None, read=None, redirect=None, status=None)) after connection broken by 'NewConnectionError('<pip._vendor.urllib3.connection.HTTPSConnection object at 0x7fd34fbcf040>: Failed to establish a new connection: [Errno -2] Name or service not known')': /simple/segmentation-models-pytorch/\u001b[0m\n",
      "\u001b[33mWARNING: Retrying (Retry(total=3, connect=None, read=None, redirect=None, status=None)) after connection broken by 'NewConnectionError('<pip._vendor.urllib3.connection.HTTPSConnection object at 0x7fd34fbcf250>: Failed to establish a new connection: [Errno -2] Name or service not known')': /simple/segmentation-models-pytorch/\u001b[0m\n",
      "\u001b[33mWARNING: Retrying (Retry(total=2, connect=None, read=None, redirect=None, status=None)) after connection broken by 'NewConnectionError('<pip._vendor.urllib3.connection.HTTPSConnection object at 0x7fd34fbad340>: Failed to establish a new connection: [Errno -2] Name or service not known')': /simple/segmentation-models-pytorch/\u001b[0m\n",
      "\u001b[33mWARNING: Retrying (Retry(total=1, connect=None, read=None, redirect=None, status=None)) after connection broken by 'NewConnectionError('<pip._vendor.urllib3.connection.HTTPSConnection object at 0x7fd34fbad370>: Failed to establish a new connection: [Errno -2] Name or service not known')': /simple/segmentation-models-pytorch/\u001b[0m\n",
      "\u001b[33mWARNING: Retrying (Retry(total=0, connect=None, read=None, redirect=None, status=None)) after connection broken by 'NewConnectionError('<pip._vendor.urllib3.connection.HTTPSConnection object at 0x7fd34fbcf400>: Failed to establish a new connection: [Errno -2] Name or service not known')': /simple/segmentation-models-pytorch/\u001b[0m\n",
      "\u001b[31mERROR: Could not find a version that satisfies the requirement segmentation_models_pytorch (from versions: none)\u001b[0m\n",
      "\u001b[31mERROR: No matching distribution found for segmentation_models_pytorch\u001b[0m\n"
     ]
    }
   ],
   "source": [
    "!pip install pickle5\n",
    "!pip install segmentation_models_pytorch"
   ]
  },
  {
   "cell_type": "code",
   "execution_count": null,
   "id": "2e49e46f-0538-4efd-948d-36335d975a82",
   "metadata": {},
   "outputs": [],
   "source": []
  }
 ],
 "metadata": {
  "kernelspec": {
   "display_name": "Python 3 (ipykernel)",
   "language": "python",
   "name": "python3"
  },
  "language_info": {
   "codemirror_mode": {
    "name": "ipython",
    "version": 3
   },
   "file_extension": ".py",
   "mimetype": "text/x-python",
   "name": "python",
   "nbconvert_exporter": "python",
   "pygments_lexer": "ipython3",
   "version": "3.9.7"
  }
 },
 "nbformat": 4,
 "nbformat_minor": 5
}
