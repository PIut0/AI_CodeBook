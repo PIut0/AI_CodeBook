{
 "cells": [
  {
   "cell_type": "code",
   "execution_count": 17,
   "id": "374c3fde-7b52-4287-bd21-3d13ec5c264e",
   "metadata": {},
   "outputs": [
    {
     "name": "stdout",
     "output_type": "stream",
     "text": [
      "1000\n",
      "1001\n",
      "1002\n",
      "1003\n",
      "1004\n",
      "1005\n",
      "1006\n",
      "1007\n",
      "1008\n",
      "1009\n",
      "1010\n",
      "1011\n",
      "1012\n",
      "1013\n",
      "1014\n",
      "1015\n",
      "1016\n",
      "1017\n",
      "1018\n",
      "1019\n",
      "1020\n",
      "1021\n"
     ]
    },
    {
     "ename": "KeyboardInterrupt",
     "evalue": "",
     "output_type": "error",
     "traceback": [
      "\u001b[0;31m---------------------------------------------------------------------------\u001b[0m",
      "\u001b[0;31mKeyboardInterrupt\u001b[0m                         Traceback (most recent call last)",
      "\u001b[0;32m/tmp/ipykernel_736339/4151257047.py\u001b[0m in \u001b[0;36m<module>\u001b[0;34m\u001b[0m\n\u001b[1;32m     12\u001b[0m     \u001b[0;32mfor\u001b[0m \u001b[0mi\u001b[0m \u001b[0;32min\u001b[0m \u001b[0mrange\u001b[0m\u001b[0;34m(\u001b[0m\u001b[0mx\u001b[0m\u001b[0;34m.\u001b[0m\u001b[0mshape\u001b[0m\u001b[0;34m[\u001b[0m\u001b[0;36m0\u001b[0m\u001b[0;34m]\u001b[0m\u001b[0;34m)\u001b[0m\u001b[0;34m:\u001b[0m\u001b[0;34m\u001b[0m\u001b[0;34m\u001b[0m\u001b[0m\n\u001b[1;32m     13\u001b[0m         \u001b[0;32mfor\u001b[0m \u001b[0mj\u001b[0m \u001b[0;32min\u001b[0m \u001b[0mrange\u001b[0m\u001b[0;34m(\u001b[0m\u001b[0my\u001b[0m\u001b[0;34m.\u001b[0m\u001b[0mshape\u001b[0m\u001b[0;34m[\u001b[0m\u001b[0;36m1\u001b[0m\u001b[0;34m]\u001b[0m\u001b[0;34m)\u001b[0m\u001b[0;34m:\u001b[0m\u001b[0;34m\u001b[0m\u001b[0;34m\u001b[0m\u001b[0m\n\u001b[0;32m---> 14\u001b[0;31m             \u001b[0;32mif\u001b[0m \u001b[0mx\u001b[0m\u001b[0;34m[\u001b[0m\u001b[0mi\u001b[0m\u001b[0;34m]\u001b[0m\u001b[0;34m[\u001b[0m\u001b[0mj\u001b[0m\u001b[0;34m]\u001b[0m\u001b[0;34m>\u001b[0m\u001b[0;36m0\u001b[0m\u001b[0;34m:\u001b[0m\u001b[0;34m\u001b[0m\u001b[0;34m\u001b[0m\u001b[0m\n\u001b[0m\u001b[1;32m     15\u001b[0m                 \u001b[0my\u001b[0m\u001b[0;34m[\u001b[0m\u001b[0mi\u001b[0m\u001b[0;34m]\u001b[0m\u001b[0;34m[\u001b[0m\u001b[0mj\u001b[0m\u001b[0;34m]\u001b[0m\u001b[0;34m[\u001b[0m\u001b[0mx\u001b[0m\u001b[0;34m[\u001b[0m\u001b[0mi\u001b[0m\u001b[0;34m]\u001b[0m\u001b[0;34m[\u001b[0m\u001b[0mj\u001b[0m\u001b[0;34m]\u001b[0m\u001b[0;34m-\u001b[0m\u001b[0;36m1\u001b[0m\u001b[0;34m]\u001b[0m\u001b[0;34m=\u001b[0m\u001b[0;36m256\u001b[0m\u001b[0;34m\u001b[0m\u001b[0;34m\u001b[0m\u001b[0m\n\u001b[1;32m     16\u001b[0m     \u001b[0mmasked_img\u001b[0m\u001b[0;34m=\u001b[0m \u001b[0mImage\u001b[0m\u001b[0;34m.\u001b[0m\u001b[0mfromarray\u001b[0m\u001b[0;34m(\u001b[0m\u001b[0my\u001b[0m\u001b[0;34m)\u001b[0m \u001b[0;31m# NumPy array to PIL image\u001b[0m\u001b[0;34m\u001b[0m\u001b[0;34m\u001b[0m\u001b[0m\n",
      "\u001b[0;31mKeyboardInterrupt\u001b[0m: "
     ]
    }
   ],
   "source": [
    "import numpy as np\n",
    "from PIL import Image\n",
    "import os\n",
    "\n",
    "for img_id in range(1000,3338):\n",
    "    mask_img_path = os.path.join(\"/scratch/network/mk8574/change_detection_challenge/baseline_dy/results/pred/20231117_031208_20231117_043451/mask\",str(img_id)+\".png\")\n",
    "    mask_img = Image.open(mask_img_path)\n",
    "    x = np.array(mask_img)\n",
    "    test_img_path=os.path.join(\"/scratch/network/mk8574/change_detection_challenge/data/test/x\",str(img_id)+\".png\")\n",
    "    test_img = Image.open(test_img_path)\n",
    "    y = np.array(test_img)\n",
    "    for i in range(x.shape[0]):\n",
    "        for j in range(y.shape[1]):\n",
    "            if x[i][j]>0:\n",
    "                y[i][j][x[i][j]-1]=256\n",
    "    masked_img= Image.fromarray(y)\n",
    "    masked_img.save(\"/scratch/network/mk8574/change_detection_challenge/baseline_dy/masked_img/\"+str(img_id)+\".png\")\n",
    "    print(img_id)"
   ]
  },
  {
   "cell_type": "code",
   "execution_count": 21,
   "id": "5021e6c2-97ed-437e-813f-afefb40570ae",
   "metadata": {},
   "outputs": [
    {
     "name": "stdout",
     "output_type": "stream",
     "text": [
      "1000 [0, 0, 1]\n",
      "1100 [8, 3, 81]\n",
      "1200 [12, 6, 166]\n",
      "1300 [17, 11, 248]\n",
      "1400 [22, 18, 326]\n",
      "1500 [28, 23, 409]\n",
      "1600 [39, 26, 489]\n",
      "1700 [44, 31, 572]\n",
      "1800 [53, 36, 653]\n",
      "1900 [58, 40, 730]\n",
      "2000 [66, 42, 813]\n",
      "2100 [68, 42, 904]\n",
      "2200 [74, 43, 989]\n",
      "2300 [79, 46, 1074]\n",
      "2400 [85, 50, 1159]\n",
      "2500 [91, 52, 1246]\n",
      "2600 [98, 54, 1328]\n",
      "2700 [102, 60, 1415]\n",
      "2800 [104, 61, 1504]\n",
      "2900 [109, 62, 1590]\n",
      "3000 [111, 67, 1678]\n",
      "3100 [120, 70, 1761]\n",
      "3200 [126, 74, 1843]\n",
      "3300 [129, 78, 1928]\n",
      "labels [131, 79, 1960]\n"
     ]
    }
   ],
   "source": [
    "lst = [0,0,0]\n",
    "for img_id in range(1000,3338):\n",
    "    mask_img_path = os.path.join(\"/scratch/network/mk8574/change_detection_challenge/baseline_dy/results/pred/20231117_031208_20231117_043451/mask\",str(img_id)+\".png\")\n",
    "    mask_img = Image.open(mask_img_path)\n",
    "    x = np.array(mask_img)\n",
    "    breaker=False\n",
    "    for i in range(x.shape[0]):\n",
    "        for j in range(x.shape[1]):\n",
    "            if x[i][j]>0:\n",
    "                lst[x[i][j]-1]+=1\n",
    "                breaker=True\n",
    "                break\n",
    "        if breaker:\n",
    "            break\n",
    "    if img_id%100==0:\n",
    "        print(img_id,lst)\n",
    "    \n",
    "print(\"labels\",lst)\n",
    "                "
   ]
  },
  {
   "cell_type": "code",
   "execution_count": 2,
   "id": "d1ea029e-4639-4210-9923-6bbb8a79c62b",
   "metadata": {},
   "outputs": [
    {
     "name": "stderr",
     "output_type": "stream",
     "text": [
      "display: unable to open X server `' @ error/display.c/DisplayImageCommand/413.\n"
     ]
    }
   ],
   "source": [
    "import numpy as np\n",
    "from PIL import Image\n",
    "import os\n",
    "img_id=1000\n",
    "mask_img_path = os.path.join(\"/scratch/network/mk8574/change_detection_challenge/baseline_dy/results/pred/20231117_031208_20231117_043451/mask\",str(img_id)+\".png\")\n",
    "mask_img = Image.open(mask_img_path)\n",
    "mask_img.show()"
   ]
  },
  {
   "cell_type": "code",
   "execution_count": 1,
   "id": "a5e77eaf-c051-4f46-b2d5-ed3f061c927e",
   "metadata": {},
   "outputs": [
    {
     "name": "stderr",
     "output_type": "stream",
     "text": [
      "/home/mk8574/.conda/envs/mk8574_3.10/lib/python3.10/site-packages/tqdm/auto.py:21: TqdmWarning: IProgress not found. Please update jupyter and ipywidgets. See https://ipywidgets.readthedocs.io/en/stable/user_install.html\n",
      "  from .autonotebook import tqdm as notebook_tqdm\n"
     ]
    }
   ],
   "source": [
    "import numpy as np\n",
    "from PIL import Image\n",
    "import os\n",
    "from datetime import datetime\n",
    "from tqdm import tqdm\n",
    "import numpy as np\n",
    "import random, os, sys, torch, cv2, warnings\n",
    "from glob import glob\n",
    "from torch.utils.data import DataLoader\n",
    "import matplotlib.pyplot as plt\n",
    "\n",
    "prj_dir = os.path.dirname('/scratch/network/mk8574/change_detection_challenge/baseline_dy/')\n",
    "\n",
    "from modules.utils import load_yaml, save_yaml, get_logger\n",
    "from modules.scalers import get_image_scaler\n",
    "from modules.datasets import SegDataset\n",
    "from models.utils import get_model\n",
    "\n",
    "def colorize_mask(mask, colors):\n",
    "    # Colorize the mask based on the provided colors\n",
    "    # `colors` should be a dictionary mapping each class to a BGR color\n",
    "    colored_mask = np.zeros((mask.shape[0], mask.shape[1], 3), dtype=np.uint8)\n",
    "\n",
    "    for cls, color in colors.items():\n",
    "        colored_mask[mask == cls] = color\n",
    "    \n",
    "    return colored_mask\n",
    "\n",
    "def overlay_mask_on_image(image, mask, alpha=0.5):\n",
    "    # Overlay the mask on the image\n",
    "    overlay = cv2.addWeighted(image, alpha, mask, 1 - alpha, 0)\n",
    "    return overlay\n",
    "\n",
    "# Define colors for each class in BGR format\n",
    "class_colors = {\n",
    "    0: [0, 0, 0],        # Class 0: Black\n",
    "    1: [255, 255, 0],      # Class 1: Yellow\n",
    "    2: [0, 255, 255],      # Class 2: Lightblue\n",
    "    3: [255, 0, 255],      # Class 3: Pink\n",
    "}"
   ]
  },
  {
   "cell_type": "code",
   "execution_count": 23,
   "id": "993b241f-43b7-408b-8479-4c9787e4bec1",
   "metadata": {},
   "outputs": [],
   "source": [
    "def predict_image(img_id = '2015_DMG_1LB_000066'):\n",
    "\n",
    " \n",
    "\n",
    "\n",
    "\n",
    "\n",
    "\n",
    "    base_url = os.path.join(\"/scratch/network/mk8574/change_detection_challenge/swapdata/train\")\n",
    "    filename = img_id + \".png\"\n",
    "    # orig_img = cv2.imread(os.path.join(base_url, 'x', filename), cv2.IMREAD_COLOR)\n",
    "    # orig_size = orig_img.shape\n",
    "\n",
    "\n",
    "\n",
    "\n",
    "    \n",
    "\n",
    "    gt_mask_path = os.path.join(base_url, 'y', filename) # Define `ground_truth_dir` appropriately\n",
    "    gt_mask = cv2.imread(gt_mask_path, 0) # 0 for grayscale\n",
    "    \n",
    "    bk=False\n",
    "    for i in range(len(gt_mask)):\n",
    "        \n",
    "        for j in range(len(gt_mask[0])):\n",
    "            if gt_mask[i][j]!=0:\n",
    "                bk=True\n",
    "                break\n",
    "        if bk:\n",
    "            break\n",
    "                  \n",
    "\n",
    "\n",
    "    gt_img = overlay_mask_on_image(orig_img, colorize_mask(gt_mask, class_colors), alpha=0.5)\n",
    "    plt.imshow(gt_img)\n",
    "    # plt.imshow(gt_mask)\n",
    "    plt.title('Ground Truth Segmentation')\n",
    "    plt.axis('off')\n",
    "\n",
    "    plt.show()"
   ]
  },
  {
   "cell_type": "code",
   "execution_count": 21,
   "id": "ab7c452d-cd55-48e3-859c-5e6c3b0f2acc",
   "metadata": {},
   "outputs": [],
   "source": [
    "swaplst = os.listdir(\"/scratch/network/mk8574/change_detection_challenge/swapdata/train/y\")"
   ]
  },
  {
   "cell_type": "code",
   "execution_count": 25,
   "id": "539b7077-5114-4a8b-9fe7-f0cdd91c4a4a",
   "metadata": {},
   "outputs": [
    {
     "name": "stderr",
     "output_type": "stream",
     "text": [
      "100%|██████████| 802/802 [04:52<00:00,  2.74it/s]\n"
     ]
    }
   ],
   "source": [
    "cnt=0\n",
    "for i in tqdm(swaplst[50:]):\n",
    "\n",
    "    if len(i)==len(swaplst[0]):\n",
    "\n",
    "        predict_image(i[:-4])\n",
    "        \n",
    "        \n",
    "\n",
    "    "
   ]
  },
  {
   "cell_type": "code",
   "execution_count": null,
   "id": "27c2a7f5-2c71-4d4d-9375-c9f668fc43c1",
   "metadata": {},
   "outputs": [],
   "source": []
  }
 ],
 "metadata": {
  "kernelspec": {
   "display_name": "mk8574_3.10 [~/.conda/envs/mk8574_3.10/]",
   "language": "python",
   "name": "conda_mk8574_3.10"
  },
  "language_info": {
   "codemirror_mode": {
    "name": "ipython",
    "version": 3
   },
   "file_extension": ".py",
   "mimetype": "text/x-python",
   "name": "python",
   "nbconvert_exporter": "python",
   "pygments_lexer": "ipython3",
   "version": "3.10.13"
  }
 },
 "nbformat": 4,
 "nbformat_minor": 5
}
