{
 "cells": [
  {
   "cell_type": "code",
   "execution_count": 1,
   "id": "6d90422b-71f3-4ec3-b666-05988927d525",
   "metadata": {},
   "outputs": [],
   "source": [
    "import numpy as np # linear algebra\n",
    "import xml.etree.ElementTree as ET # for parsing XML\n",
    "import matplotlib.pyplot as plt # to show images\n",
    "from PIL import Image # to read images\n",
    "import os\n",
    "import glob\n",
    "\n"
   ]
  },
  {
   "cell_type": "code",
   "execution_count": 2,
   "id": "66380683-6539-4978-82b4-fc1644515088",
   "metadata": {},
   "outputs": [],
   "source": [
    "import pandas as pd\n",
    "train_csv= pd.read_csv('/scratch/network/mk8574/change_detection_challenge/data/train.csv')\n"
   ]
  },
  {
   "cell_type": "code",
   "execution_count": 15,
   "id": "6422868c-753d-4ed3-a1d9-05614b36e221",
   "metadata": {},
   "outputs": [],
   "source": [
    "import ast\n",
    "x=train_csv[\"class1_bbox\"][0][1:-1]\n",
    "x = ast.literal_eval(x)"
   ]
  },
  {
   "cell_type": "code",
   "execution_count": 19,
   "id": "deef7a3a-1b77-449f-a7f9-b5581532851b",
   "metadata": {},
   "outputs": [
    {
     "data": {
      "text/plain": [
       "1"
      ]
     },
     "execution_count": 19,
     "metadata": {},
     "output_type": "execute_result"
    }
   ],
   "source": [
    "x[\"min_x\"]\n"
   ]
  },
  {
   "cell_type": "code",
   "execution_count": null,
   "id": "cdac9ac4-bf1f-4f07-86fa-9886b8775179",
   "metadata": {},
   "outputs": [],
   "source": []
  },
  {
   "cell_type": "code",
   "execution_count": null,
   "id": "5356863d-22b0-4332-92fe-060e65b3fe52",
   "metadata": {},
   "outputs": [],
   "source": []
  },
  {
   "cell_type": "code",
   "execution_count": null,
   "id": "fb02fcdc-fbac-4a8e-8e49-3610b7f85a0f",
   "metadata": {},
   "outputs": [],
   "source": []
  },
  {
   "cell_type": "code",
   "execution_count": null,
   "id": "cc4a8aaa-d822-4644-9772-c84246bd8518",
   "metadata": {},
   "outputs": [],
   "source": []
  },
  {
   "cell_type": "code",
   "execution_count": null,
   "id": "cae99594-92d6-46cc-bc2e-1748aec09705",
   "metadata": {},
   "outputs": [],
   "source": []
  },
  {
   "cell_type": "code",
   "execution_count": null,
   "id": "de38a350-703d-451a-bcd6-546f9ebcbdda",
   "metadata": {},
   "outputs": [],
   "source": [
    "\n",
    "for i in range(12000):\n",
    "    for class_num in [\"class1\",\"class2\",\"class3\"]:\n",
    "        x=train_csv[class_num+'_bbox'][i][1:-1]\n",
    "        x = ast.literal_eval(x)\n",
    "        for j in range(len(x)):\n",
    "            bbox = (x[j][\"min_x\"],x[j][\"min_y\"],x[j][\"max_x\"],x[j][\"max_y\"])\n",
    "            bbox=train_csv[num_class]\n",
    "            im=Image.open(os.path.join(\"/scratch/network/mk8574/change_detection_challenge/data/train/x\",image))\n",
    "            im=im.crop(bbox)\n",
    "            im.save('/scratch/network/mk8574/change_detection_challenge/cropped_data/train/x/'+, 'png')\n",
    "            \n"
   ]
  }
 ],
 "metadata": {
  "kernelspec": {
   "display_name": "Python 3 (ipykernel)",
   "language": "python",
   "name": "python3"
  },
  "language_info": {
   "codemirror_mode": {
    "name": "ipython",
    "version": 3
   },
   "file_extension": ".py",
   "mimetype": "text/x-python",
   "name": "python",
   "nbconvert_exporter": "python",
   "pygments_lexer": "ipython3",
   "version": "3.9.7"
  }
 },
 "nbformat": 4,
 "nbformat_minor": 5
}
