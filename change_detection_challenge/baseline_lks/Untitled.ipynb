{
 "cells": [
  {
   "cell_type": "code",
   "execution_count": 17,
   "id": "374c3fde-7b52-4287-bd21-3d13ec5c264e",
   "metadata": {},
   "outputs": [
    {
     "name": "stdout",
     "output_type": "stream",
     "text": [
      "1000\n",
      "1001\n",
      "1002\n",
      "1003\n",
      "1004\n",
      "1005\n",
      "1006\n",
      "1007\n",
      "1008\n",
      "1009\n",
      "1010\n",
      "1011\n",
      "1012\n",
      "1013\n",
      "1014\n",
      "1015\n",
      "1016\n",
      "1017\n",
      "1018\n",
      "1019\n",
      "1020\n",
      "1021\n"
     ]
    },
    {
     "ename": "KeyboardInterrupt",
     "evalue": "",
     "output_type": "error",
     "traceback": [
      "\u001b[0;31m---------------------------------------------------------------------------\u001b[0m",
      "\u001b[0;31mKeyboardInterrupt\u001b[0m                         Traceback (most recent call last)",
      "\u001b[0;32m/tmp/ipykernel_736339/4151257047.py\u001b[0m in \u001b[0;36m<module>\u001b[0;34m\u001b[0m\n\u001b[1;32m     12\u001b[0m     \u001b[0;32mfor\u001b[0m \u001b[0mi\u001b[0m \u001b[0;32min\u001b[0m \u001b[0mrange\u001b[0m\u001b[0;34m(\u001b[0m\u001b[0mx\u001b[0m\u001b[0;34m.\u001b[0m\u001b[0mshape\u001b[0m\u001b[0;34m[\u001b[0m\u001b[0;36m0\u001b[0m\u001b[0;34m]\u001b[0m\u001b[0;34m)\u001b[0m\u001b[0;34m:\u001b[0m\u001b[0;34m\u001b[0m\u001b[0;34m\u001b[0m\u001b[0m\n\u001b[1;32m     13\u001b[0m         \u001b[0;32mfor\u001b[0m \u001b[0mj\u001b[0m \u001b[0;32min\u001b[0m \u001b[0mrange\u001b[0m\u001b[0;34m(\u001b[0m\u001b[0my\u001b[0m\u001b[0;34m.\u001b[0m\u001b[0mshape\u001b[0m\u001b[0;34m[\u001b[0m\u001b[0;36m1\u001b[0m\u001b[0;34m]\u001b[0m\u001b[0;34m)\u001b[0m\u001b[0;34m:\u001b[0m\u001b[0;34m\u001b[0m\u001b[0;34m\u001b[0m\u001b[0m\n\u001b[0;32m---> 14\u001b[0;31m             \u001b[0;32mif\u001b[0m \u001b[0mx\u001b[0m\u001b[0;34m[\u001b[0m\u001b[0mi\u001b[0m\u001b[0;34m]\u001b[0m\u001b[0;34m[\u001b[0m\u001b[0mj\u001b[0m\u001b[0;34m]\u001b[0m\u001b[0;34m>\u001b[0m\u001b[0;36m0\u001b[0m\u001b[0;34m:\u001b[0m\u001b[0;34m\u001b[0m\u001b[0;34m\u001b[0m\u001b[0m\n\u001b[0m\u001b[1;32m     15\u001b[0m                 \u001b[0my\u001b[0m\u001b[0;34m[\u001b[0m\u001b[0mi\u001b[0m\u001b[0;34m]\u001b[0m\u001b[0;34m[\u001b[0m\u001b[0mj\u001b[0m\u001b[0;34m]\u001b[0m\u001b[0;34m[\u001b[0m\u001b[0mx\u001b[0m\u001b[0;34m[\u001b[0m\u001b[0mi\u001b[0m\u001b[0;34m]\u001b[0m\u001b[0;34m[\u001b[0m\u001b[0mj\u001b[0m\u001b[0;34m]\u001b[0m\u001b[0;34m-\u001b[0m\u001b[0;36m1\u001b[0m\u001b[0;34m]\u001b[0m\u001b[0;34m=\u001b[0m\u001b[0;36m256\u001b[0m\u001b[0;34m\u001b[0m\u001b[0;34m\u001b[0m\u001b[0m\n\u001b[1;32m     16\u001b[0m     \u001b[0mmasked_img\u001b[0m\u001b[0;34m=\u001b[0m \u001b[0mImage\u001b[0m\u001b[0;34m.\u001b[0m\u001b[0mfromarray\u001b[0m\u001b[0;34m(\u001b[0m\u001b[0my\u001b[0m\u001b[0;34m)\u001b[0m \u001b[0;31m# NumPy array to PIL image\u001b[0m\u001b[0;34m\u001b[0m\u001b[0;34m\u001b[0m\u001b[0m\n",
      "\u001b[0;31mKeyboardInterrupt\u001b[0m: "
     ]
    }
   ],
   "source": [
    "import numpy as np\n",
    "from PIL import Image\n",
    "import os\n",
    "\n",
    "for img_id in range(1000,3338):\n",
    "    mask_img_path = os.path.join(\"/scratch/network/mk8574/change_detection_challenge/baseline_dy/results/pred/20231117_031208_20231117_043451/mask\",str(img_id)+\".png\")\n",
    "    mask_img = Image.open(mask_img_path)\n",
    "    x = np.array(mask_img)\n",
    "    test_img_path=os.path.join(\"/scratch/network/mk8574/change_detection_challenge/data/test/x\",str(img_id)+\".png\")\n",
    "    test_img = Image.open(test_img_path)\n",
    "    y = np.array(test_img)\n",
    "    for i in range(x.shape[0]):\n",
    "        for j in range(y.shape[1]):\n",
    "            if x[i][j]>0:\n",
    "                y[i][j][x[i][j]-1]=256\n",
    "    masked_img= Image.fromarray(y)\n",
    "    masked_img.save(\"/scratch/network/mk8574/change_detection_challenge/baseline_dy/masked_img/\"+str(img_id)+\".png\")\n",
    "    print(img_id)"
   ]
  },
  {
   "cell_type": "code",
   "execution_count": 21,
   "id": "5021e6c2-97ed-437e-813f-afefb40570ae",
   "metadata": {},
   "outputs": [
    {
     "name": "stdout",
     "output_type": "stream",
     "text": [
      "1000 [0, 0, 1]\n",
      "1100 [8, 3, 81]\n",
      "1200 [12, 6, 166]\n",
      "1300 [17, 11, 248]\n",
      "1400 [22, 18, 326]\n",
      "1500 [28, 23, 409]\n",
      "1600 [39, 26, 489]\n",
      "1700 [44, 31, 572]\n",
      "1800 [53, 36, 653]\n",
      "1900 [58, 40, 730]\n",
      "2000 [66, 42, 813]\n",
      "2100 [68, 42, 904]\n",
      "2200 [74, 43, 989]\n",
      "2300 [79, 46, 1074]\n",
      "2400 [85, 50, 1159]\n",
      "2500 [91, 52, 1246]\n",
      "2600 [98, 54, 1328]\n",
      "2700 [102, 60, 1415]\n",
      "2800 [104, 61, 1504]\n",
      "2900 [109, 62, 1590]\n",
      "3000 [111, 67, 1678]\n",
      "3100 [120, 70, 1761]\n",
      "3200 [126, 74, 1843]\n",
      "3300 [129, 78, 1928]\n",
      "labels [131, 79, 1960]\n"
     ]
    }
   ],
   "source": [
    "lst = [0,0,0]\n",
    "for img_id in range(1000,3338):\n",
    "    mask_img_path = os.path.join(\"/scratch/network/mk8574/change_detection_challenge/baseline_dy/results/pred/20231117_031208_20231117_043451/mask\",str(img_id)+\".png\")\n",
    "    mask_img = Image.open(mask_img_path)\n",
    "    x = np.array(mask_img)\n",
    "    breaker=False\n",
    "    for i in range(x.shape[0]):\n",
    "        for j in range(x.shape[1]):\n",
    "            if x[i][j]>0:\n",
    "                lst[x[i][j]-1]+=1\n",
    "                breaker=True\n",
    "                break\n",
    "        if breaker:\n",
    "            break\n",
    "    if img_id%100==0:\n",
    "        print(img_id,lst)\n",
    "    \n",
    "print(\"labels\",lst)\n",
    "                "
   ]
  },
  {
   "cell_type": "code",
   "execution_count": null,
   "id": "511c7146-11f6-43b7-8214-74eb658d8475",
   "metadata": {},
   "outputs": [],
   "source": [
    "from PIL import Image\n",
    "lst_123 = [0,0,0,0]\n",
    "num_multi_label=0\n",
    "use_area_dict = {\"1JY\":0,\"2JY\":1,\"1LB\":2,\"2LB\":3,\"3LB\":4,\"JJG\":5,\"SAG\":6,\"JKG\":7,\"KNI\":8}\n",
    "use_area_lst = [[0]*4 for _ in range(9)]\n",
    "heatmap=[[0]*754 for _ in range(754)]\n",
    "for img_id in img_lsty:\n",
    "  im = Image.open('/content/drive/MyDrive/y/'+img_id) # Can be many different formats.\n",
    "  use_area = img_id[-14:-11]\n",
    "  use_area_lst[use_area_dict[use_area]][0]+=1\n",
    "  pix = im.load()\n",
    "  lst=[]\n",
    "  x,y = im.size\n",
    "  for i in range(x):\n",
    "    for j in range(y):\n",
    "      if pix[i,j]>0 :\n",
    "        heatmap[i%(x//2)][j]+=1\n",
    "        if pix[i,j] not in lst:\n",
    "          lst.append(pix[i,j])\n",
    "          use_area_lst[use_area_dict[use_area]][pix[i,j]]+=1\n",
    "  if len(lst)==0:\n",
    "    lst_123[0]+=1\n",
    "  else:\n",
    "    for i in lst:\n",
    "      lst_123[i]+=1\n",
    "    if len(lst)>1:\n",
    "      num_multi_label+=1\n",
    "\n",
    "\n",
    "  if sum(lst_123)%100==0:\n",
    "    print(sum(lst_123))\n",
    "    print(lst_123)\n",
    "\n",
    "\n",
    "print(lst_123)\n",
    "print(\"multi_labels:\",num_multi_label)"
   ]
  }
 ],
 "metadata": {
  "kernelspec": {
   "display_name": "Python 3 (ipykernel)",
   "language": "python",
   "name": "python3"
  },
  "language_info": {
   "codemirror_mode": {
    "name": "ipython",
    "version": 3
   },
   "file_extension": ".py",
   "mimetype": "text/x-python",
   "name": "python",
   "nbconvert_exporter": "python",
   "pygments_lexer": "ipython3",
   "version": "3.9.7"
  }
 },
 "nbformat": 4,
 "nbformat_minor": 5
}
