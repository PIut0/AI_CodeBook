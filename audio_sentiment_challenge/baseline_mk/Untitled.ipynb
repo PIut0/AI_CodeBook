{
 "cells": [
  {
   "cell_type": "code",
   "execution_count": 13,
   "id": "ca1c9d50-1df7-42d7-a500-248efc997863",
   "metadata": {},
   "outputs": [],
   "source": [
    "import random\n",
    "import pandas as pd\n",
    "import numpy as np\n",
    "import os\n",
    "from tqdm.auto import tqdm\n",
    "import librosa\n",
    "import IPython\n",
    "import soundfile as sf"
   ]
  },
  {
   "cell_type": "code",
   "execution_count": 34,
   "id": "de0104d0-c017-4105-92f0-8d7f2b210de5",
   "metadata": {},
   "outputs": [],
   "source": [
    "def get_mfcc_feature(df):\n",
    "    features = []\n",
    "    for path in tqdm(df['path']):\n",
    "        # librosa패키지를 사용하여 wav 파일 load\n",
    "        y, sr = sf.read(os.path.join('/scratch/network/mk8574/audio_sentiment_challenge/data/', path))\n",
    "        # librosa패키지를 사용하여 mfcc 추출\n",
    "        mfcc = librosa.feature.mfcc(y=y, sr=sr, n_mfcc=CFG['N_MFCC'])\n",
    "        features.append(mfcc)\n",
    "\n",
    "    print(features[0:5])\n",
    "    mfcc_df = pd.DataFrame(features)\n",
    "    return mfcc_df"
   ]
  },
  {
   "cell_type": "code",
   "execution_count": 35,
   "id": "0e5aad02-030a-43ca-a5ed-b96f97ce36ea",
   "metadata": {},
   "outputs": [],
   "source": [
    "CFG = {\n",
    "    'SR':16000,\n",
    "    'N_MFCC':32, # Melspectrogram 벡터를 추출할 개수\n",
    "    'SEED':42\n",
    "}"
   ]
  },
  {
   "cell_type": "code",
   "execution_count": 36,
   "id": "667711de-3741-4d52-af14-b65ad7f90894",
   "metadata": {},
   "outputs": [],
   "source": [
    "train_df = pd.read_csv('/scratch/network/mk8574/audio_sentiment_challenge/data/train.csv')\n",
    "test_df = pd.read_csv('/scratch/network/mk8574/audio_sentiment_challenge/data/test.csv')"
   ]
  },
  {
   "cell_type": "code",
   "execution_count": 37,
   "id": "ae31be4d-f7c0-47b4-8b7a-18a958ed7ec6",
   "metadata": {},
   "outputs": [
    {
     "name": "stderr",
     "output_type": "stream",
     "text": [
      "100%|██████████| 5001/5001 [00:19<00:00, 259.28it/s]\n"
     ]
    },
    {
     "name": "stdout",
     "output_type": "stream",
     "text": [
      "[array([[-4.67071203e+02, -4.48325127e+02, -4.48475572e+02, ...,\n",
      "        -4.47034872e+02, -4.53476330e+02, -5.04940214e+02],\n",
      "       [ 1.07450319e+02,  1.11681368e+02,  1.12475856e+02, ...,\n",
      "         1.07053018e+02,  1.08523864e+02,  1.11992779e+02],\n",
      "       [ 4.96217911e+01,  5.58842704e+01,  5.83984168e+01, ...,\n",
      "         6.05862023e+01,  5.74991313e+01,  5.53611438e+01],\n",
      "       ...,\n",
      "       [ 7.17087377e-01, -5.61451942e-01,  8.28267947e-01, ...,\n",
      "        -2.25565450e+00, -1.60386973e+00, -8.97205679e-01],\n",
      "       [ 5.06441520e+00,  3.53867036e+00,  4.16219505e+00, ...,\n",
      "        -4.21359315e+00, -1.16645327e+00, -2.21233585e+00],\n",
      "       [-1.93650838e+00,  4.42467500e-01, -5.12618614e-01, ...,\n",
      "         1.42596936e+00,  5.99537390e+00,  5.21113319e+00]]), array([[-4.81236033e+02, -4.65286641e+02, -4.64832677e+02, ...,\n",
      "        -4.54098056e+02, -4.48301468e+02, -4.57322248e+02],\n",
      "       [ 1.05591732e+02,  1.01744779e+02,  1.03036014e+02, ...,\n",
      "         9.96709412e+01,  1.03541320e+02,  1.05501867e+02],\n",
      "       [ 5.56248146e+01,  6.37636654e+01,  6.37647316e+01, ...,\n",
      "         5.78679992e+01,  5.69724234e+01,  4.48784952e+01],\n",
      "       ...,\n",
      "       [ 4.73800717e+00,  5.90921428e+00,  4.98023678e+00, ...,\n",
      "         5.69031622e+00,  3.28077621e+00,  3.38376582e+00],\n",
      "       [-2.96110793e+00, -1.99942260e-01,  4.42742756e+00, ...,\n",
      "         2.07147994e+00,  2.00140417e+00,  1.30501111e+00],\n",
      "       [-3.60633382e-01, -2.17536771e+00,  1.12559121e+00, ...,\n",
      "         7.06726348e+00,  2.78357245e+00,  1.95753958e+00]]), array([[-4.63706032e+02, -4.48316721e+02, -4.58410306e+02, ...,\n",
      "        -4.55125335e+02, -4.50289848e+02, -4.52148490e+02],\n",
      "       [ 9.57801395e+01,  1.00367546e+02,  9.96318615e+01, ...,\n",
      "         9.61599230e+01,  9.76134580e+01,  1.00498544e+02],\n",
      "       [ 4.03526277e+01,  4.92397841e+01,  5.77317804e+01, ...,\n",
      "         5.63118128e+01,  5.76448470e+01,  5.00538047e+01],\n",
      "       ...,\n",
      "       [-1.36354909e+00,  2.36242807e+00, -5.61289904e-01, ...,\n",
      "        -7.11796724e+00, -2.51975515e+00,  3.25122227e+00],\n",
      "       [-3.01902464e-01,  1.62747287e+00, -1.53954609e+00, ...,\n",
      "        -4.16399077e+00, -7.67306544e-01,  2.33309718e+00],\n",
      "       [ 5.41850698e+00,  7.85966125e+00,  6.86612275e+00, ...,\n",
      "         6.88276889e+00,  6.51665962e+00,  4.23961537e+00]]), array([[-5.07756799e+02, -5.06179293e+02, -5.07111991e+02, ...,\n",
      "        -5.13292565e+02, -5.07030809e+02, -5.06721242e+02],\n",
      "       [ 1.07736888e+02,  1.08836659e+02,  1.08413900e+02, ...,\n",
      "         1.11681426e+02,  1.12316825e+02,  1.12852282e+02],\n",
      "       [ 4.44843607e+01,  5.85642747e+01,  6.12432019e+01, ...,\n",
      "         5.72221415e+01,  5.83369330e+01,  5.54106460e+01],\n",
      "       ...,\n",
      "       [-3.90757358e+00, -4.10747556e+00, -1.96015095e+00, ...,\n",
      "         2.14033958e+00,  1.83919304e+00, -3.98530529e+00],\n",
      "       [-3.51786983e+00, -2.49864760e+00, -3.43384740e+00, ...,\n",
      "         1.82501645e+00,  5.86193977e+00,  4.65219323e+00],\n",
      "       [-3.78629030e+00, -2.31663734e+00, -2.49213510e+00, ...,\n",
      "        -4.41385060e+00, -1.54451725e-01,  1.20108857e+00]]), array([[-4.66080806e+02, -4.45338870e+02, -4.47882330e+02, ...,\n",
      "        -4.23215015e+02, -4.32030703e+02, -4.63229582e+02],\n",
      "       [ 1.10119417e+02,  1.11204631e+02,  1.05650083e+02, ...,\n",
      "         1.13940296e+02,  1.10026925e+02,  1.07968587e+02],\n",
      "       [ 5.24577400e+01,  6.04160901e+01,  5.82881074e+01, ...,\n",
      "         4.72726434e+01,  5.10853683e+01,  5.21757444e+01],\n",
      "       ...,\n",
      "       [ 8.08908282e-01, -1.67431057e+00, -3.08828199e+00, ...,\n",
      "        -7.71855188e-01, -4.55641519e-01,  1.74127844e+00],\n",
      "       [-2.08495777e+00, -2.75264936e+00, -3.24685028e+00, ...,\n",
      "        -3.84987042e+00, -2.63207522e-02, -6.32640723e-01],\n",
      "       [-2.92507675e+00, -8.80095710e-02, -2.46180948e+00, ...,\n",
      "         1.77854048e-01,  3.41040199e+00,  1.62658157e+00]])]\n"
     ]
    },
    {
     "ename": "ValueError",
     "evalue": "setting an array element with a sequence. The requested array has an inhomogeneous shape after 2 dimensions. The detected shape was (5001, 32) + inhomogeneous part.",
     "output_type": "error",
     "traceback": [
      "\u001b[0;31m---------------------------------------------------------------------------\u001b[0m",
      "\u001b[0;31mValueError\u001b[0m                                Traceback (most recent call last)",
      "Cell \u001b[0;32mIn[37], line 1\u001b[0m\n\u001b[0;32m----> 1\u001b[0m train_x \u001b[38;5;241m=\u001b[39m \u001b[43mget_mfcc_feature\u001b[49m\u001b[43m(\u001b[49m\u001b[43mtrain_df\u001b[49m\u001b[43m)\u001b[49m\n\u001b[1;32m      2\u001b[0m test_x \u001b[38;5;241m=\u001b[39m get_mfcc_feature(test_df)\n",
      "Cell \u001b[0;32mIn[34], line 11\u001b[0m, in \u001b[0;36mget_mfcc_feature\u001b[0;34m(df)\u001b[0m\n\u001b[1;32m      8\u001b[0m     features\u001b[38;5;241m.\u001b[39mappend(mfcc)\n\u001b[1;32m     10\u001b[0m \u001b[38;5;28mprint\u001b[39m(features[\u001b[38;5;241m0\u001b[39m:\u001b[38;5;241m5\u001b[39m])\n\u001b[0;32m---> 11\u001b[0m mfcc_df \u001b[38;5;241m=\u001b[39m \u001b[43mpd\u001b[49m\u001b[38;5;241;43m.\u001b[39;49m\u001b[43mDataFrame\u001b[49m\u001b[43m(\u001b[49m\u001b[43mfeatures\u001b[49m\u001b[43m)\u001b[49m\n\u001b[1;32m     12\u001b[0m \u001b[38;5;28;01mreturn\u001b[39;00m mfcc_df\n",
      "File \u001b[0;32m~/.conda/envs/mk8574_3.10/lib/python3.10/site-packages/pandas/core/frame.py:822\u001b[0m, in \u001b[0;36mDataFrame.__init__\u001b[0;34m(self, data, index, columns, dtype, copy)\u001b[0m\n\u001b[1;32m    814\u001b[0m         mgr \u001b[38;5;241m=\u001b[39m arrays_to_mgr(\n\u001b[1;32m    815\u001b[0m             arrays,\n\u001b[1;32m    816\u001b[0m             columns,\n\u001b[0;32m   (...)\u001b[0m\n\u001b[1;32m    819\u001b[0m             typ\u001b[38;5;241m=\u001b[39mmanager,\n\u001b[1;32m    820\u001b[0m         )\n\u001b[1;32m    821\u001b[0m     \u001b[38;5;28;01melse\u001b[39;00m:\n\u001b[0;32m--> 822\u001b[0m         mgr \u001b[38;5;241m=\u001b[39m \u001b[43mndarray_to_mgr\u001b[49m\u001b[43m(\u001b[49m\n\u001b[1;32m    823\u001b[0m \u001b[43m            \u001b[49m\u001b[43mdata\u001b[49m\u001b[43m,\u001b[49m\n\u001b[1;32m    824\u001b[0m \u001b[43m            \u001b[49m\u001b[43mindex\u001b[49m\u001b[43m,\u001b[49m\n\u001b[1;32m    825\u001b[0m \u001b[43m            \u001b[49m\u001b[43mcolumns\u001b[49m\u001b[43m,\u001b[49m\n\u001b[1;32m    826\u001b[0m \u001b[43m            \u001b[49m\u001b[43mdtype\u001b[49m\u001b[38;5;241;43m=\u001b[39;49m\u001b[43mdtype\u001b[49m\u001b[43m,\u001b[49m\n\u001b[1;32m    827\u001b[0m \u001b[43m            \u001b[49m\u001b[43mcopy\u001b[49m\u001b[38;5;241;43m=\u001b[39;49m\u001b[43mcopy\u001b[49m\u001b[43m,\u001b[49m\n\u001b[1;32m    828\u001b[0m \u001b[43m            \u001b[49m\u001b[43mtyp\u001b[49m\u001b[38;5;241;43m=\u001b[39;49m\u001b[43mmanager\u001b[49m\u001b[43m,\u001b[49m\n\u001b[1;32m    829\u001b[0m \u001b[43m        \u001b[49m\u001b[43m)\u001b[49m\n\u001b[1;32m    830\u001b[0m \u001b[38;5;28;01melse\u001b[39;00m:\n\u001b[1;32m    831\u001b[0m     mgr \u001b[38;5;241m=\u001b[39m dict_to_mgr(\n\u001b[1;32m    832\u001b[0m         {},\n\u001b[1;32m    833\u001b[0m         index,\n\u001b[0;32m   (...)\u001b[0m\n\u001b[1;32m    836\u001b[0m         typ\u001b[38;5;241m=\u001b[39mmanager,\n\u001b[1;32m    837\u001b[0m     )\n",
      "File \u001b[0;32m~/.conda/envs/mk8574_3.10/lib/python3.10/site-packages/pandas/core/internals/construction.py:319\u001b[0m, in \u001b[0;36mndarray_to_mgr\u001b[0;34m(values, index, columns, dtype, copy, typ)\u001b[0m\n\u001b[1;32m    314\u001b[0m     values \u001b[38;5;241m=\u001b[39m _ensure_2d(values)\n\u001b[1;32m    316\u001b[0m \u001b[38;5;28;01melse\u001b[39;00m:\n\u001b[1;32m    317\u001b[0m     \u001b[38;5;66;03m# by definition an array here\u001b[39;00m\n\u001b[1;32m    318\u001b[0m     \u001b[38;5;66;03m# the dtypes will be coerced to a single dtype\u001b[39;00m\n\u001b[0;32m--> 319\u001b[0m     values \u001b[38;5;241m=\u001b[39m \u001b[43m_prep_ndarraylike\u001b[49m\u001b[43m(\u001b[49m\u001b[43mvalues\u001b[49m\u001b[43m,\u001b[49m\u001b[43m \u001b[49m\u001b[43mcopy\u001b[49m\u001b[38;5;241;43m=\u001b[39;49m\u001b[43mcopy_on_sanitize\u001b[49m\u001b[43m)\u001b[49m\n\u001b[1;32m    321\u001b[0m \u001b[38;5;28;01mif\u001b[39;00m dtype \u001b[38;5;129;01mis\u001b[39;00m \u001b[38;5;129;01mnot\u001b[39;00m \u001b[38;5;28;01mNone\u001b[39;00m \u001b[38;5;129;01mand\u001b[39;00m values\u001b[38;5;241m.\u001b[39mdtype \u001b[38;5;241m!=\u001b[39m dtype:\n\u001b[1;32m    322\u001b[0m     \u001b[38;5;66;03m# GH#40110 see similar check inside sanitize_array\u001b[39;00m\n\u001b[1;32m    323\u001b[0m     values \u001b[38;5;241m=\u001b[39m sanitize_array(\n\u001b[1;32m    324\u001b[0m         values,\n\u001b[1;32m    325\u001b[0m         \u001b[38;5;28;01mNone\u001b[39;00m,\n\u001b[0;32m   (...)\u001b[0m\n\u001b[1;32m    328\u001b[0m         allow_2d\u001b[38;5;241m=\u001b[39m\u001b[38;5;28;01mTrue\u001b[39;00m,\n\u001b[1;32m    329\u001b[0m     )\n",
      "File \u001b[0;32m~/.conda/envs/mk8574_3.10/lib/python3.10/site-packages/pandas/core/internals/construction.py:575\u001b[0m, in \u001b[0;36m_prep_ndarraylike\u001b[0;34m(values, copy)\u001b[0m\n\u001b[1;32m    569\u001b[0m \u001b[38;5;66;03m# we could have a 1-dim or 2-dim list here\u001b[39;00m\n\u001b[1;32m    570\u001b[0m \u001b[38;5;66;03m# this is equiv of np.asarray, but does object conversion\u001b[39;00m\n\u001b[1;32m    571\u001b[0m \u001b[38;5;66;03m# and platform dtype preservation\u001b[39;00m\n\u001b[1;32m    572\u001b[0m \u001b[38;5;66;03m# does not convert e.g. [1, \"a\", True] to [\"1\", \"a\", \"True\"] like\u001b[39;00m\n\u001b[1;32m    573\u001b[0m \u001b[38;5;66;03m#  np.asarray would\u001b[39;00m\n\u001b[1;32m    574\u001b[0m \u001b[38;5;28;01mif\u001b[39;00m is_list_like(values[\u001b[38;5;241m0\u001b[39m]):\n\u001b[0;32m--> 575\u001b[0m     values \u001b[38;5;241m=\u001b[39m \u001b[43mnp\u001b[49m\u001b[38;5;241;43m.\u001b[39;49m\u001b[43marray\u001b[49m\u001b[43m(\u001b[49m\u001b[43m[\u001b[49m\u001b[43mconvert\u001b[49m\u001b[43m(\u001b[49m\u001b[43mv\u001b[49m\u001b[43m)\u001b[49m\u001b[43m \u001b[49m\u001b[38;5;28;43;01mfor\u001b[39;49;00m\u001b[43m \u001b[49m\u001b[43mv\u001b[49m\u001b[43m \u001b[49m\u001b[38;5;129;43;01min\u001b[39;49;00m\u001b[43m \u001b[49m\u001b[43mvalues\u001b[49m\u001b[43m]\u001b[49m\u001b[43m)\u001b[49m\n\u001b[1;32m    576\u001b[0m \u001b[38;5;28;01melif\u001b[39;00m \u001b[38;5;28misinstance\u001b[39m(values[\u001b[38;5;241m0\u001b[39m], np\u001b[38;5;241m.\u001b[39mndarray) \u001b[38;5;129;01mand\u001b[39;00m values[\u001b[38;5;241m0\u001b[39m]\u001b[38;5;241m.\u001b[39mndim \u001b[38;5;241m==\u001b[39m \u001b[38;5;241m0\u001b[39m:\n\u001b[1;32m    577\u001b[0m     \u001b[38;5;66;03m# GH#21861 see test_constructor_list_of_lists\u001b[39;00m\n\u001b[1;32m    578\u001b[0m     values \u001b[38;5;241m=\u001b[39m np\u001b[38;5;241m.\u001b[39marray([convert(v) \u001b[38;5;28;01mfor\u001b[39;00m v \u001b[38;5;129;01min\u001b[39;00m values])\n",
      "\u001b[0;31mValueError\u001b[0m: setting an array element with a sequence. The requested array has an inhomogeneous shape after 2 dimensions. The detected shape was (5001, 32) + inhomogeneous part."
     ]
    }
   ],
   "source": [
    "train_x = get_mfcc_feature(train_df)\n",
    "test_x = get_mfcc_feature(test_df)"
   ]
  },
  {
   "cell_type": "code",
   "execution_count": null,
   "id": "147a1c88-e65b-4e08-8964-652118602755",
   "metadata": {},
   "outputs": [],
   "source": [
    "print(train_x)"
   ]
  },
  {
   "cell_type": "code",
   "execution_count": null,
   "id": "9c3fafd9-4cc7-42b9-b85f-c57af25eed6e",
   "metadata": {},
   "outputs": [],
   "source": [
    "train_y = train_df['label']"
   ]
  },
  {
   "cell_type": "code",
   "execution_count": null,
   "id": "e3a321f5-be4d-4ba2-b6a5-d174700d5df7",
   "metadata": {},
   "outputs": [],
   "source": []
  }
 ],
 "metadata": {
  "kernelspec": {
   "display_name": "mk8574_3.10 [~/.conda/envs/mk8574_3.10/]",
   "language": "python",
   "name": "conda_mk8574_3.10"
  },
  "language_info": {
   "codemirror_mode": {
    "name": "ipython",
    "version": 3
   },
   "file_extension": ".py",
   "mimetype": "text/x-python",
   "name": "python",
   "nbconvert_exporter": "python",
   "pygments_lexer": "ipython3",
   "version": "3.10.13"
  }
 },
 "nbformat": 4,
 "nbformat_minor": 5
}
