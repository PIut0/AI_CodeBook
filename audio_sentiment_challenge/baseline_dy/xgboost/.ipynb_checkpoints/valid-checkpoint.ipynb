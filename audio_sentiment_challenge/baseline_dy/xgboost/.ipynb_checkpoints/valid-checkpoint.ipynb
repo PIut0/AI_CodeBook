{
 "cells": [
  {
   "cell_type": "code",
   "execution_count": 9,
   "id": "4216151b-cfd9-47fd-886d-46d1612cfe17",
   "metadata": {},
   "outputs": [],
   "source": [
    "from config import Config\n",
    "from modules.trainer import train\n",
    "from modules.model import MyModel\n",
    "from modules.dataset import MyDataSet\n",
    "from modules.dataloader import collate_fn_no_label\n",
    "\n",
    "import sys, os\n",
    "import torch\n",
    "import pandas as pd\n",
    "from tqdm.auto import tqdm\n",
    "from torch.utils.data import DataLoader\n",
    "from transformers import AutoFeatureExtractor\n",
    "\n",
    "\n",
    "    "
   ]
  },
  {
   "cell_type": "code",
   "execution_count": 7,
   "id": "0edd54bf-7ae4-46b0-9827-70911656c1db",
   "metadata": {},
   "outputs": [],
   "source": [
    "import sys,os\n",
    "sys.path.append(os.path.dirname(os.path.abspath(os.path.dirname(\"/scratch/network/mk8574/audio_sentiment_challenge/baseline_dy/baseline/modules/\"))))"
   ]
  },
  {
   "cell_type": "code",
   "execution_count": 8,
   "id": "5e1d74ee-4b1c-4a4a-926c-83427e765465",
   "metadata": {},
   "outputs": [
    {
     "data": {
      "text/plain": [
       "['/scratch/network/mk8574/audio_sentiment_challenge/baseline_dy/xgboost',\n",
       " '/home/mk8574/.conda/envs/mk8574_3.10/lib/python310.zip',\n",
       " '/home/mk8574/.conda/envs/mk8574_3.10/lib/python3.10',\n",
       " '/home/mk8574/.conda/envs/mk8574_3.10/lib/python3.10/lib-dynload',\n",
       " '',\n",
       " '/home/mk8574/.conda/envs/mk8574_3.10/lib/python3.10/site-packages',\n",
       " '/scratch/network/mk8574/audio_sentiment_challenge/baseline_dy',\n",
       " '/scratch/network/mk8574/audio_sentiment_challenge/baseline_dy/baseline']"
      ]
     },
     "execution_count": 8,
     "metadata": {},
     "output_type": "execute_result"
    }
   ],
   "source": [
    "sys.path"
   ]
  },
  {
   "cell_type": "code",
   "execution_count": 13,
   "id": "83c0ac7a-c476-4de2-9188-a2e88e7fd688",
   "metadata": {},
   "outputs": [
    {
     "data": {
      "application/vnd.jupyter.widget-view+json": {
       "model_id": "ffc843a5481540c0a9992a519010133e",
       "version_major": 2,
       "version_minor": 0
      },
      "text/plain": [
       "  0%|          | 0/471 [00:00<?, ?it/s]"
      ]
     },
     "metadata": {},
     "output_type": "display_data"
    },
    {
     "ename": "KeyboardInterrupt",
     "evalue": "",
     "output_type": "error",
     "traceback": [
      "\u001b[0;31m---------------------------------------------------------------------------\u001b[0m",
      "\u001b[0;31mKeyboardInterrupt\u001b[0m                         Traceback (most recent call last)",
      "Cell \u001b[0;32mIn[13], line 28\u001b[0m\n\u001b[1;32m     26\u001b[0m x \u001b[38;5;241m=\u001b[39m x\u001b[38;5;241m.\u001b[39mto(device)\n\u001b[1;32m     27\u001b[0m output \u001b[38;5;241m=\u001b[39m model(x)\n\u001b[0;32m---> 28\u001b[0m preds \u001b[38;5;241m+\u001b[39m\u001b[38;5;241m=\u001b[39m \u001b[43moutput\u001b[49m\u001b[38;5;241;43m.\u001b[39;49m\u001b[43margmax\u001b[49m\u001b[43m(\u001b[49m\u001b[38;5;241;43m-\u001b[39;49m\u001b[38;5;241;43m1\u001b[39;49m\u001b[43m)\u001b[49m\u001b[38;5;241;43m.\u001b[39;49m\u001b[43mdetach\u001b[49m\u001b[43m(\u001b[49m\u001b[43m)\u001b[49m\u001b[38;5;241;43m.\u001b[39;49m\u001b[43mcpu\u001b[49m\u001b[43m(\u001b[49m\u001b[43m)\u001b[49m\u001b[38;5;241m.\u001b[39mnumpy()\u001b[38;5;241m.\u001b[39mtolist()\n\u001b[1;32m     29\u001b[0m \u001b[38;5;28;01mfor\u001b[39;00m i \u001b[38;5;129;01min\u001b[39;00m \u001b[38;5;28mrange\u001b[39m(\u001b[38;5;28mlen\u001b[39m(output)):\n\u001b[1;32m     31\u001b[0m     output[i] \u001b[38;5;241m=\u001b[39m Tensor(softmax(output[i]\u001b[38;5;241m.\u001b[39mcpu()\u001b[38;5;241m.\u001b[39mnumpy()\u001b[38;5;241m.\u001b[39mtolist()))\n",
      "\u001b[0;31mKeyboardInterrupt\u001b[0m: "
     ]
    }
   ],
   "source": [
    "from torch import Tensor\n",
    "import numpy as np\n",
    "def softmax(x):\n",
    "    y = np.exp(x)\n",
    "    f_x = y / np.sum(np.exp(x))\n",
    "    return f_x\n",
    "config = Config()\n",
    "device = torch.device(f'cuda:{config.device}') if torch.cuda.is_available() else torch.device('cpu')\n",
    "arg = \"20231124_214037\"\n",
    "working_path = os.path.join('/scratch/network/mk8574/audio_sentiment_challenge/baseline_dy/baseline/results', arg)\n",
    "model = MyModel(working_path, mode='test').to(device)\n",
    "\n",
    "test_df = pd.read_csv(os.path.join(\"/scratch/network/mk8574/audio_sentiment_challenge/baseline_dy/xgboost/valid.csv\"))\n",
    "test_df.reset_index(drop=True, inplace=True)\n",
    "\n",
    "feature_extractor = AutoFeatureExtractor.from_pretrained(config.pretrained_name)\n",
    "test_dataset = MyDataSet(test_df, feature_extractor, mode='test', data_path=config.data_path)\n",
    "\n",
    "test_loader = DataLoader(test_dataset, batch_size=config.batch_size, shuffle=False, collate_fn=collate_fn_no_label, num_workers=config.num_workers)\n",
    "\n",
    "model.eval()\n",
    "preds = []\n",
    "pred_label = [[] for _ in range(6)]\n",
    "with torch.no_grad():\n",
    "    for x in tqdm(iter(test_loader)):\n",
    "        x = x.to(device)\n",
    "        output = model(x)\n",
    "        preds += output.argmax(-1).detach().cpu().numpy().tolist()\n",
    "        for i in range(len(output)):\n",
    "\n",
    "            output[i] = Tensor(softmax(output[i].cpu().numpy().tolist()))\n",
    "\n",
    "\n",
    "        for i in range(6):\n",
    "            pred_label[i]+=output[:,i].detach().cpu().numpy().tolist()\n",
    "submission = pd.read_csv(os.path.join(config.data_path, 'sample_submission.csv'))\n",
    "submission['label'] = preds\n",
    "for i in range(6):\n",
    "    submission[\"prob_\"+str(i)] = pred_label[i]\n",
    "submission.to_csv(os.path.join(working_path, 'prob_val.csv'), index=False)"
   ]
  },
  {
   "cell_type": "code",
   "execution_count": null,
   "id": "b616453e-0902-42cd-a041-8056fa3dafdd",
   "metadata": {},
   "outputs": [],
   "source": []
  }
 ],
 "metadata": {
  "kernelspec": {
   "display_name": "mk8574_3.10 [~/.conda/envs/mk8574_3.10/]",
   "language": "python",
   "name": "conda_mk8574_3.10"
  },
  "language_info": {
   "codemirror_mode": {
    "name": "ipython",
    "version": 3
   },
   "file_extension": ".py",
   "mimetype": "text/x-python",
   "name": "python",
   "nbconvert_exporter": "python",
   "pygments_lexer": "ipython3",
   "version": "3.10.13"
  }
 },
 "nbformat": 4,
 "nbformat_minor": 5
}
